{
 "cells": [
  {
   "attachments": {},
   "cell_type": "markdown",
   "id": "eb8ce77a",
   "metadata": {},
   "source": [
    "In this final tutorial we will show how to use EKO interfaced with LHAPDF to check different properties of PDFs. \n"
   ]
  },
  {
   "cell_type": "code",
   "execution_count": null,
   "id": "6a26de44",
   "metadata": {},
   "outputs": [],
   "source": [
    "!lhapdf install CT14llo\n",
    "!lhapdf install NNPDF40_nnlo_as_01180"
   ]
  },
  {
   "cell_type": "code",
   "execution_count": 1,
   "id": "3ee636f6",
   "metadata": {},
   "outputs": [],
   "source": [
    "import numpy as np\n",
    "import pandas as pd\n",
    "import lhapdf\n",
    "import pathlib\n",
    "from matplotlib import pyplot as plt\n",
    "import eko\n",
    "from eko.interpolation import lambertgrid\n",
    "from ekobox.cards import example"
   ]
  },
  {
   "attachments": {},
   "cell_type": "markdown",
   "id": "6a4ccad5-2d9d-44ae-802f-455a9cc17c05",
   "metadata": {},
   "source": [
    "## Evolving a PDF\n",
    "\n",
    "Here we illustrate how to get (and install) directly a LHAPDF set evolved with eko. "
   ]
  },
  {
   "attachments": {},
   "cell_type": "markdown",
   "id": "bbbae6d6",
   "metadata": {},
   "source": [
    "Now, we set the theory inputs: in this example we will evolve our PDF at LO and create a new LHAPDF object with\n",
    "a size two `mugrid`."
   ]
  },
  {
   "cell_type": "code",
   "execution_count": 2,
   "id": "4a68494f",
   "metadata": {},
   "outputs": [],
   "source": [
    "th_card = example.theory()\n",
    "op_card = example.operator()\n",
    "# here we replace the grid with a very minimal one, to speed up the example\n",
    "op_card.xgrid = eko.interpolation.XGrid([1e-3, 1e-2, 1e-1, 5e-1, 1.0])\n",
    "op_card.mugrid = [[10.0, 5], [100.0, 5]]\n",
    "# set QCD LO evolution\n",
    "th_card.order = (1, 0)"
   ]
  },
  {
   "attachments": {},
   "cell_type": "markdown",
   "id": "4f1323db",
   "metadata": {},
   "source": [
    "We are ready to run eko and install the new PDF set.\n",
    "Note, that if the evolved PDF already exists, the code will overwrite it.\n",
    "\n",
    "You can set the variable `path` in `evolve_pdfs` to load a precomputed EKO, while setting `store_path` you can save the produced EKO and reuse it later.\n",
    "You can also iterate on the given PDF objects (e.g. replicas)."
   ]
  },
  {
   "cell_type": "code",
   "execution_count": 7,
   "id": "8c18c327",
   "metadata": {},
   "outputs": [
    {
     "name": "stdout",
     "output_type": "stream",
     "text": [
      "LHAPDF 6.5.4 loading /Users/manuel/Desktop/ComoSchool/share/LHAPDF/NNPDF40_nnlo_as_01180/NNPDF40_nnlo_as_01180_0000.dat\n",
      "NNPDF40_nnlo_as_01180 PDF set, member #0, version 1; LHAPDF ID = 331100\n"
     ]
    },
    {
     "name": "stderr",
     "output_type": "stream",
     "text": [
      "Overwriting old PDF installation\n"
     ]
    },
    {
     "name": "stdout",
     "output_type": "stream",
     "text": [
      "install_pdf my_first_PDF\n"
     ]
    }
   ],
   "source": [
    "from ekobox.evol_pdf import evolve_pdfs\n",
    "\n",
    "# choose a PDFs set as a boundary condition\n",
    "pdf = lhapdf.mkPDF(\"NNPDF40_nnlo_as_01180\")\n",
    "\n",
    "# set a path to store the eko\n",
    "path = pathlib.Path(\"./myeko2.tar\")\n",
    "# and delete it in case it is already present\n",
    "path.unlink(missing_ok=True)\n",
    "\n",
    "evolve_pdfs([pdf], th_card, op_card, name=\"my_first_PDF\", store_path=path, install=True)"
   ]
  },
  {
   "attachments": {},
   "cell_type": "markdown",
   "id": "888e659d",
   "metadata": {},
   "source": [
    "Now, you can access the evolved PDF as all the other PDF sets (note that this requires the Python interface of lhapdf)."
   ]
  },
  {
   "cell_type": "code",
   "execution_count": 8,
   "id": "cf532a93-7a56-4e45-abd0-50e8652e9a59",
   "metadata": {},
   "outputs": [
    {
     "name": "stdout",
     "output_type": "stream",
     "text": [
      "LHAPDF 6.5.4 loading /Users/manuel/Desktop/ComoSchool/share/LHAPDF/my_first_PDF/my_first_PDF_0000.dat\n",
      "my_first_PDF PDF set, member #0, version 1\n"
     ]
    }
   ],
   "source": [
    "evolved_pdf = lhapdf.mkPDF(\"my_first_PDF\", 0)"
   ]
  },
  {
   "attachments": {},
   "cell_type": "markdown",
   "id": "4622dc19",
   "metadata": {},
   "source": [
    "To obtain the value of the gluon PDF at a given scale you can simply do:"
   ]
  },
  {
   "cell_type": "code",
   "execution_count": 9,
   "id": "9a85c78d",
   "metadata": {},
   "outputs": [
    {
     "name": "stdout",
     "output_type": "stream",
     "text": [
      "Is gluon in our PDF? True\n",
      "xg(x=0.01, mu^2=89.1) = 5.880915013057697\n"
     ]
    }
   ],
   "source": [
    "pid = 21  # gluon pid\n",
    "mu2 = 89.10  # mu^2 in Gev^2\n",
    "x = 0.01  # momentum fraction\n",
    "\n",
    "# check that the particle is present\n",
    "print(\"Is gluon in our PDF?\", evolved_pdf.hasFlavor(pid))\n",
    "# now, let's do a lookup\n",
    "xg = evolved_pdf.xfxQ2(pid, x, mu2)\n",
    "print(f\"xg(x={x}, mu^2={mu2}) = {xg}\")"
   ]
  },
  {
   "attachments": {},
   "cell_type": "markdown",
   "id": "58b26d42",
   "metadata": {},
   "source": [
    "## Benchmark to CT14llo\n",
    "\n",
    "In this part of the tutorial we do an eko benchmark showing how PDFs evolved with eko can reproduce the values from the original LHAPDF grids."
   ]
  },
  {
   "attachments": {},
   "cell_type": "markdown",
   "id": "e5afc630",
   "metadata": {},
   "source": [
    "First, we need to set up the theory and operator runcards to match the settings used to produce the chosen PDF, here we will use `CT14llo`.\n",
    "\n",
    "We have to use LO evolution and we choose to dump our PDF into grids with 5 values of `mu2` and 60 points."
   ]
  },
  {
   "cell_type": "code",
   "execution_count": 10,
   "id": "00f4f8a4",
   "metadata": {},
   "outputs": [
    {
     "name": "stdout",
     "output_type": "stream",
     "text": [
      "LHAPDF 6.5.4 loading /Users/manuel/Desktop/ComoSchool/share/LHAPDF/CT14llo/CT14llo_0000.dat\n",
      "CT14llo PDF set, member #0, version 1; LHAPDF ID = 13205\n"
     ]
    }
   ],
   "source": [
    "from eko.quantities.heavy_quarks import QuarkMassRef, HeavyQuarks\n",
    "\n",
    "\n",
    "# get the PDF object\n",
    "ct14llo = lhapdf.mkPDF(\"CT14llo\")\n",
    "\n",
    "# setup the operator card\n",
    "op_card = example.operator()\n",
    "op_card.xgrid = eko.interpolation.XGrid(lambertgrid(60))  # x grid\n",
    "op_card.mugrid = [\n",
    "    (float(mu), 4 if mu <= 4.75 else 5) for mu in np.geomspace(5.0, 100, 5)\n",
    "]  # mu, nf grid\n",
    "op_card.mu0 = 1.295000  # starting point for the evolution\n",
    "\n",
    "# setup the theory card - this can be mostly inferred from the PDF's .info file\n",
    "\n",
    "th_card = example.theory()\n",
    "th_card.order = (1, 0)  # QCD LO\n",
    "th_card.heavy.masses = HeavyQuarks(\n",
    "    [\n",
    "        QuarkMassRef([1.3, np.nan]),\n",
    "        QuarkMassRef([4.75, np.nan]),\n",
    "        QuarkMassRef([172.0, np.nan]),\n",
    "    ]\n",
    ")  # quark mass\n",
    "th_card.couplings.alphas = 0.130000  # reference value of alpha_s\n",
    "th_card.couplings.scale = 91.1876  # the reference scale at which alpha_s is provided\n",
    "th_card.couplings.num_flavs_ref = (\n",
    "    5  # the number of flavors active at the alpha_s reference scale\n",
    ")\n",
    "th_card.couplings.num_flavs_init = (\n",
    "    3  # the number of flavors active at the reference scale\n",
    ")"
   ]
  },
  {
   "attachments": {},
   "cell_type": "markdown",
   "id": "a0a51d8b",
   "metadata": {},
   "source": [
    "Next, we run the evolution and save the new PDF. Due to the extended `x` grid and `mu2` grid this might take a minute so please be patient ..."
   ]
  },
  {
   "cell_type": "code",
   "execution_count": 11,
   "id": "05b81dca",
   "metadata": {},
   "outputs": [
    {
     "name": "stdout",
     "output_type": "stream",
     "text": [
      "install_pdf my_ct14llo\n"
     ]
    }
   ],
   "source": [
    "path = pathlib.Path(\"./myeko_ct14llo.tar\")\n",
    "path.unlink(missing_ok=True)\n",
    "evolve_pdfs(\n",
    "    [ct14llo], th_card, op_card, name=\"my_ct14llo\", store_path=path, install=True\n",
    ")"
   ]
  },
  {
   "attachments": {},
   "cell_type": "markdown",
   "id": "df0e805f",
   "metadata": {},
   "source": [
    "Now, we can compare the values given by the original PDF set and the one evolved with eko, both at different `x` and `mu2` scales, for a chosen parton,\n",
    "here we look at the gluon:"
   ]
  },
  {
   "cell_type": "code",
   "execution_count": 12,
   "id": "2b02aab1",
   "metadata": {},
   "outputs": [
    {
     "name": "stdout",
     "output_type": "stream",
     "text": [
      "LHAPDF 6.5.4 loading /Users/manuel/Desktop/ComoSchool/share/LHAPDF/my_ct14llo/my_ct14llo_0000.dat\n",
      "my_ct14llo PDF set, member #0, version 1\n"
     ]
    }
   ],
   "source": [
    "# load evolved pdf\n",
    "my_ct14llo = lhapdf.mkPDF(\"my_ct14llo\", 0)\n",
    "\n",
    "# let's check the gluon as an example\n",
    "pid = 21\n",
    "\n",
    "# collect data\n",
    "log = {\"x\": [], \"mu2\": [], \"ct14llo\": [], \"my_ct14llo\": [], \"relative_diff\": []}\n",
    "for mu2 in np.geomspace(25.0, 10000, 5):\n",
    "    for x in np.geomspace(1e-5, 0.9, 5):\n",
    "        value = ct14llo.xfxQ2(pid, x, mu2)\n",
    "        my_value = my_ct14llo.xfxQ2(pid, x, mu2)\n",
    "        log[\"x\"].append(x)\n",
    "        log[\"mu2\"].append(mu2)\n",
    "        log[\"ct14llo\"].append(value)\n",
    "        log[\"my_ct14llo\"].append(my_value)\n",
    "        log[\"relative_diff\"].append((value - my_value) * 100 / value)"
   ]
  },
  {
   "cell_type": "code",
   "execution_count": 13,
   "id": "ffc6ee6a-b19a-45de-8e03-0a7b82380052",
   "metadata": {},
   "outputs": [
    {
     "data": {
      "text/html": [
       "<div>\n",
       "<style scoped>\n",
       "    .dataframe tbody tr th:only-of-type {\n",
       "        vertical-align: middle;\n",
       "    }\n",
       "\n",
       "    .dataframe tbody tr th {\n",
       "        vertical-align: top;\n",
       "    }\n",
       "\n",
       "    .dataframe thead th {\n",
       "        text-align: right;\n",
       "    }\n",
       "</style>\n",
       "<table border=\"1\" class=\"dataframe\">\n",
       "  <thead>\n",
       "    <tr style=\"text-align: right;\">\n",
       "      <th></th>\n",
       "      <th>x</th>\n",
       "      <th>mu2</th>\n",
       "      <th>ct14llo</th>\n",
       "      <th>my_ct14llo</th>\n",
       "      <th>relative_diff</th>\n",
       "    </tr>\n",
       "  </thead>\n",
       "  <tbody>\n",
       "    <tr>\n",
       "      <th>0</th>\n",
       "      <td>0.000010</td>\n",
       "      <td>25.000000</td>\n",
       "      <td>7.635785e+01</td>\n",
       "      <td>7.631803e+01</td>\n",
       "      <td>0.052146</td>\n",
       "    </tr>\n",
       "    <tr>\n",
       "      <th>1</th>\n",
       "      <td>0.000173</td>\n",
       "      <td>25.000000</td>\n",
       "      <td>3.194273e+01</td>\n",
       "      <td>3.192650e+01</td>\n",
       "      <td>0.050820</td>\n",
       "    </tr>\n",
       "    <tr>\n",
       "      <th>2</th>\n",
       "      <td>0.003000</td>\n",
       "      <td>25.000000</td>\n",
       "      <td>1.081843e+01</td>\n",
       "      <td>1.081271e+01</td>\n",
       "      <td>0.052915</td>\n",
       "    </tr>\n",
       "    <tr>\n",
       "      <th>3</th>\n",
       "      <td>0.051962</td>\n",
       "      <td>25.000000</td>\n",
       "      <td>1.958956e+00</td>\n",
       "      <td>1.958160e+00</td>\n",
       "      <td>0.040615</td>\n",
       "    </tr>\n",
       "    <tr>\n",
       "      <th>4</th>\n",
       "      <td>0.900000</td>\n",
       "      <td>25.000000</td>\n",
       "      <td>1.922415e-05</td>\n",
       "      <td>1.286529e-05</td>\n",
       "      <td>33.077443</td>\n",
       "    </tr>\n",
       "    <tr>\n",
       "      <th>5</th>\n",
       "      <td>0.000010</td>\n",
       "      <td>111.803399</td>\n",
       "      <td>1.333957e+02</td>\n",
       "      <td>1.333606e+02</td>\n",
       "      <td>0.026371</td>\n",
       "    </tr>\n",
       "    <tr>\n",
       "      <th>6</th>\n",
       "      <td>0.000173</td>\n",
       "      <td>111.803399</td>\n",
       "      <td>4.777286e+01</td>\n",
       "      <td>4.776030e+01</td>\n",
       "      <td>0.026303</td>\n",
       "    </tr>\n",
       "    <tr>\n",
       "      <th>7</th>\n",
       "      <td>0.003000</td>\n",
       "      <td>111.803399</td>\n",
       "      <td>1.341028e+01</td>\n",
       "      <td>1.340691e+01</td>\n",
       "      <td>0.025129</td>\n",
       "    </tr>\n",
       "    <tr>\n",
       "      <th>8</th>\n",
       "      <td>0.051962</td>\n",
       "      <td>111.803399</td>\n",
       "      <td>1.978216e+00</td>\n",
       "      <td>1.978127e+00</td>\n",
       "      <td>0.004503</td>\n",
       "    </tr>\n",
       "    <tr>\n",
       "      <th>9</th>\n",
       "      <td>0.900000</td>\n",
       "      <td>111.803399</td>\n",
       "      <td>6.644805e-06</td>\n",
       "      <td>3.727413e-06</td>\n",
       "      <td>43.904855</td>\n",
       "    </tr>\n",
       "    <tr>\n",
       "      <th>10</th>\n",
       "      <td>0.000010</td>\n",
       "      <td>500.000000</td>\n",
       "      <td>1.967032e+02</td>\n",
       "      <td>1.966515e+02</td>\n",
       "      <td>0.026332</td>\n",
       "    </tr>\n",
       "    <tr>\n",
       "      <th>11</th>\n",
       "      <td>0.000173</td>\n",
       "      <td>500.000000</td>\n",
       "      <td>6.291393e+01</td>\n",
       "      <td>6.289735e+01</td>\n",
       "      <td>0.026353</td>\n",
       "    </tr>\n",
       "    <tr>\n",
       "      <th>12</th>\n",
       "      <td>0.003000</td>\n",
       "      <td>500.000000</td>\n",
       "      <td>1.542347e+01</td>\n",
       "      <td>1.541975e+01</td>\n",
       "      <td>0.024126</td>\n",
       "    </tr>\n",
       "    <tr>\n",
       "      <th>13</th>\n",
       "      <td>0.051962</td>\n",
       "      <td>500.000000</td>\n",
       "      <td>1.947465e+00</td>\n",
       "      <td>1.947401e+00</td>\n",
       "      <td>0.003258</td>\n",
       "    </tr>\n",
       "    <tr>\n",
       "      <th>14</th>\n",
       "      <td>0.900000</td>\n",
       "      <td>500.000000</td>\n",
       "      <td>2.929060e-06</td>\n",
       "      <td>1.380984e-06</td>\n",
       "      <td>52.852313</td>\n",
       "    </tr>\n",
       "    <tr>\n",
       "      <th>15</th>\n",
       "      <td>0.000010</td>\n",
       "      <td>2236.067977</td>\n",
       "      <td>2.633266e+02</td>\n",
       "      <td>2.632594e+02</td>\n",
       "      <td>0.025540</td>\n",
       "    </tr>\n",
       "    <tr>\n",
       "      <th>16</th>\n",
       "      <td>0.000173</td>\n",
       "      <td>2236.067977</td>\n",
       "      <td>7.708540e+01</td>\n",
       "      <td>7.706595e+01</td>\n",
       "      <td>0.025227</td>\n",
       "    </tr>\n",
       "    <tr>\n",
       "      <th>17</th>\n",
       "      <td>0.003000</td>\n",
       "      <td>2236.067977</td>\n",
       "      <td>1.700410e+01</td>\n",
       "      <td>1.700038e+01</td>\n",
       "      <td>0.021848</td>\n",
       "    </tr>\n",
       "    <tr>\n",
       "      <th>18</th>\n",
       "      <td>0.051962</td>\n",
       "      <td>2236.067977</td>\n",
       "      <td>1.893923e+00</td>\n",
       "      <td>1.893888e+00</td>\n",
       "      <td>0.001829</td>\n",
       "    </tr>\n",
       "    <tr>\n",
       "      <th>19</th>\n",
       "      <td>0.900000</td>\n",
       "      <td>2236.067977</td>\n",
       "      <td>1.544450e-06</td>\n",
       "      <td>6.268633e-07</td>\n",
       "      <td>59.411876</td>\n",
       "    </tr>\n",
       "    <tr>\n",
       "      <th>20</th>\n",
       "      <td>0.000010</td>\n",
       "      <td>10000.000000</td>\n",
       "      <td>3.314097e+02</td>\n",
       "      <td>3.313257e+02</td>\n",
       "      <td>0.025367</td>\n",
       "    </tr>\n",
       "    <tr>\n",
       "      <th>21</th>\n",
       "      <td>0.000173</td>\n",
       "      <td>10000.000000</td>\n",
       "      <td>9.023010e+01</td>\n",
       "      <td>9.020798e+01</td>\n",
       "      <td>0.024519</td>\n",
       "    </tr>\n",
       "    <tr>\n",
       "      <th>22</th>\n",
       "      <td>0.003000</td>\n",
       "      <td>10000.000000</td>\n",
       "      <td>1.825934e+01</td>\n",
       "      <td>1.825586e+01</td>\n",
       "      <td>0.019082</td>\n",
       "    </tr>\n",
       "    <tr>\n",
       "      <th>23</th>\n",
       "      <td>0.051962</td>\n",
       "      <td>10000.000000</td>\n",
       "      <td>1.830992e+00</td>\n",
       "      <td>1.830996e+00</td>\n",
       "      <td>-0.000242</td>\n",
       "    </tr>\n",
       "    <tr>\n",
       "      <th>24</th>\n",
       "      <td>0.900000</td>\n",
       "      <td>10000.000000</td>\n",
       "      <td>9.288458e-07</td>\n",
       "      <td>3.352276e-07</td>\n",
       "      <td>63.909226</td>\n",
       "    </tr>\n",
       "  </tbody>\n",
       "</table>\n",
       "</div>"
      ],
      "text/plain": [
       "           x           mu2       ct14llo    my_ct14llo  relative_diff\n",
       "0   0.000010     25.000000  7.635785e+01  7.631803e+01       0.052146\n",
       "1   0.000173     25.000000  3.194273e+01  3.192650e+01       0.050820\n",
       "2   0.003000     25.000000  1.081843e+01  1.081271e+01       0.052915\n",
       "3   0.051962     25.000000  1.958956e+00  1.958160e+00       0.040615\n",
       "4   0.900000     25.000000  1.922415e-05  1.286529e-05      33.077443\n",
       "5   0.000010    111.803399  1.333957e+02  1.333606e+02       0.026371\n",
       "6   0.000173    111.803399  4.777286e+01  4.776030e+01       0.026303\n",
       "7   0.003000    111.803399  1.341028e+01  1.340691e+01       0.025129\n",
       "8   0.051962    111.803399  1.978216e+00  1.978127e+00       0.004503\n",
       "9   0.900000    111.803399  6.644805e-06  3.727413e-06      43.904855\n",
       "10  0.000010    500.000000  1.967032e+02  1.966515e+02       0.026332\n",
       "11  0.000173    500.000000  6.291393e+01  6.289735e+01       0.026353\n",
       "12  0.003000    500.000000  1.542347e+01  1.541975e+01       0.024126\n",
       "13  0.051962    500.000000  1.947465e+00  1.947401e+00       0.003258\n",
       "14  0.900000    500.000000  2.929060e-06  1.380984e-06      52.852313\n",
       "15  0.000010   2236.067977  2.633266e+02  2.632594e+02       0.025540\n",
       "16  0.000173   2236.067977  7.708540e+01  7.706595e+01       0.025227\n",
       "17  0.003000   2236.067977  1.700410e+01  1.700038e+01       0.021848\n",
       "18  0.051962   2236.067977  1.893923e+00  1.893888e+00       0.001829\n",
       "19  0.900000   2236.067977  1.544450e-06  6.268633e-07      59.411876\n",
       "20  0.000010  10000.000000  3.314097e+02  3.313257e+02       0.025367\n",
       "21  0.000173  10000.000000  9.023010e+01  9.020798e+01       0.024519\n",
       "22  0.003000  10000.000000  1.825934e+01  1.825586e+01       0.019082\n",
       "23  0.051962  10000.000000  1.830992e+00  1.830996e+00      -0.000242\n",
       "24  0.900000  10000.000000  9.288458e-07  3.352276e-07      63.909226"
      ]
     },
     "execution_count": 13,
     "metadata": {},
     "output_type": "execute_result"
    }
   ],
   "source": [
    "pd.DataFrame(log)"
   ]
  },
  {
   "attachments": {},
   "cell_type": "markdown",
   "id": "6805c26d",
   "metadata": {},
   "source": [
    "As you can see EKO is able to reproduce the numbers from the original LHAPDF grid mostly below the permille level.\n",
    "\n",
    "The accuracy is mainly limited by the number of points in the `x` and `mu2` grids that can be finer to achieve higher precision.\n",
    "\n",
    "You can also notice that at large-x the gluon pdf vanishes so the worst accuracy of our benchmark is not worrying."
   ]
  },
  {
   "attachments": {},
   "cell_type": "markdown",
   "id": "5ed13da9",
   "metadata": {},
   "source": [
    "## DGLAP effects on PDFs\n",
    "\n",
    "We can now try to see what is the effect of DGLAP evolution on different PDFs.\n",
    "\n",
    "Let's take a look at the two coupled distributions, gluon and singlet:\n",
    "\n",
    "$$ \\Sigma = \\sum_{i=0}^{n_f} q_i + \\bar{q}_i $$\n",
    "\n",
    "\n",
    "To show this we will plot the NNPDF4.0 NNLO at different $\\mu$ scales, taking advantage of the precomputed LHAPDF grids."
   ]
  },
  {
   "cell_type": "code",
   "execution_count": 14,
   "id": "c462ea1b",
   "metadata": {},
   "outputs": [
    {
     "name": "stdout",
     "output_type": "stream",
     "text": [
      "LHAPDF 6.5.4 loading /Users/manuel/Desktop/ComoSchool/share/LHAPDF/NNPDF40_nnlo_as_01180/NNPDF40_nnlo_as_01180_0000.dat\n",
      "NNPDF40_nnlo_as_01180 PDF set, member #0, version 1; LHAPDF ID = 331100\n"
     ]
    },
    {
     "data": {
      "image/png": "[encoded data removed]",
      "text/plain": [
       "<Figure size 640x480 with 1 Axes>"
      ]
     },
     "metadata": {},
     "output_type": "display_data"
    }
   ],
   "source": [
    "# select the PDF\n",
    "pdf = lhapdf.mkPDF(\"NNPDF40_nnlo_as_01180\")\n",
    "\n",
    "# x_grid\n",
    "x_grid = lambertgrid(60, x_min=1e-2)\n",
    "mu2_grid = np.array([1.65, 100]) ** 2\n",
    "\n",
    "\n",
    "# plot gluon\n",
    "pid = 21\n",
    "for mu2 in mu2_grid:\n",
    "    plt.plot(\n",
    "        x_grid, [pdf.xfxQ2(pid, x, mu2) for x in x_grid], label=f\"$\\\\mu^2$ = {mu2:.3g}\"\n",
    "    )\n",
    "plt.title(\"$x g(x)$\")\n",
    "plt.xlabel(\"$x$\")\n",
    "plt.xscale(\"log\")\n",
    "plt.legend()\n",
    "plt.tight_layout()\n",
    "plt.show()"
   ]
  },
  {
   "attachments": {},
   "cell_type": "markdown",
   "id": "630da113",
   "metadata": {},
   "source": [
    "To plot the singlet PDF we must rotate the flavors to evolution basis. EKO provides the matrix to do it! "
   ]
  },
  {
   "cell_type": "code",
   "execution_count": 15,
   "id": "5786805b",
   "metadata": {},
   "outputs": [
    {
     "name": "stdout",
     "output_type": "stream",
     "text": [
      "(22, -6, -5, -4, -3, -2, -1, 21, 1, 2, 3, 4, 5, 6)\n",
      "('ph', 'S', 'g', 'V', 'V3', 'V8', 'V15', 'V24', 'V35', 'T3', 'T8', 'T15', 'T24', 'T35')\n",
      "[[ 1  0  0  0  0  0  0  0  0  0  0  0  0  0]\n",
      " [ 0  1  1  1  1  1  1  0  1  1  1  1  1  1]\n",
      " [ 0  0  0  0  0  0  0  1  0  0  0  0  0  0]\n",
      " [ 0 -1 -1 -1 -1 -1 -1  0  1  1  1  1  1  1]\n",
      " [ 0  0  0  0  0 -1  1  0 -1  1  0  0  0  0]\n",
      " [ 0  0  0  0  2 -1 -1  0  1  1 -2  0  0  0]\n",
      " [ 0  0  0  3 -1 -1 -1  0  1  1  1 -3  0  0]\n",
      " [ 0  0  4 -1 -1 -1 -1  0  1  1  1  1 -4  0]\n",
      " [ 0  5 -1 -1 -1 -1 -1  0  1  1  1  1  1 -5]\n",
      " [ 0  0  0  0  0  1 -1  0 -1  1  0  0  0  0]\n",
      " [ 0  0  0  0 -2  1  1  0  1  1 -2  0  0  0]\n",
      " [ 0  0  0 -3  1  1  1  0  1  1  1 -3  0  0]\n",
      " [ 0  0 -4  1  1  1  1  0  1  1  1  1 -4  0]\n",
      " [ 0 -5  1  1  1  1  1  0  1  1  1  1  1 -5]]\n"
     ]
    }
   ],
   "source": [
    "from eko import basis_rotation as br\n",
    "\n",
    "print(br.flavor_basis_pids)\n",
    "print(br.evol_basis)\n",
    "print(br.rotate_flavor_to_evolution)"
   ]
  },
  {
   "cell_type": "code",
   "execution_count": 16,
   "id": "105f2b45",
   "metadata": {},
   "outputs": [
    {
     "data": {
      "image/png": "[encoded data removed]",
      "text/plain": [
       "<Figure size 640x480 with 1 Axes>"
      ]
     },
     "metadata": {},
     "output_type": "display_data"
    }
   ],
   "source": [
    "# loop in mu2\n",
    "for mu2 in mu2_grid:\n",
    "    pdfs_flavor = []\n",
    "    # loop on flavors\n",
    "    for pid in br.flavor_basis_pids:\n",
    "        if pdf.hasFlavor(pid):\n",
    "            pdfs_flavor.append([pdf.xfxQ2(pid, x, mu2) for x in x_grid])\n",
    "        else:\n",
    "            pdfs_flavor.append(np.zeros_like(x_grid))\n",
    "\n",
    "    # rotate to evolution\n",
    "    pdf_evol = br.rotate_flavor_to_evolution @ pdfs_flavor\n",
    "\n",
    "    # select singlet values\n",
    "    singlet_vals = pdf_evol[1]\n",
    "\n",
    "    # plot\n",
    "    plt.plot(x_grid, singlet_vals, label=f\"$\\\\mu^2$ = {mu2:.3g}\")\n",
    "\n",
    "plt.title(\"$x \\Sigma(x)$\")\n",
    "plt.xlabel(\"$x$\")\n",
    "plt.xscale(\"log\")\n",
    "plt.legend()\n",
    "plt.tight_layout()\n",
    "plt.show()"
   ]
  },
  {
   "attachments": {},
   "cell_type": "markdown",
   "id": "3685f1c4",
   "metadata": {},
   "source": [
    "We can observe that DGLAP raises Singlet and gluon at small-x, due to the logarithm of type $\\log(x)/x $ present in the splitting functions.\n",
    "On contrary the large-x region appear suppressed at higher values of $\\mu$."
   ]
  },
  {
   "attachments": {},
   "cell_type": "markdown",
   "id": "fdf65ce1",
   "metadata": {},
   "source": [
    "**Exercise**: \n",
    "\n",
    "By using the rotation matrix provided by EKO, plot the valence distribution, which is defined as:\n",
    "\n",
    "$$ V = \\sum_{i=0}^{n_f} q_i - \\bar{q}_i $$\n",
    "\n",
    "\n",
    "Which are the effects of the DGLAP evolution on this distribution? "
   ]
  },
  {
   "attachments": {},
   "cell_type": "markdown",
   "id": "6a0f2e15",
   "metadata": {},
   "source": [
    "## Sum rules\n",
    "\n",
    "PDFs are probabilities distribution (more precisely are functional probabilities) and thus obey to some conservation laws: \n",
    "\n",
    "* Momentum conservation: \n",
    "\n",
    "$$ \\sum_{i=1}^{n_f} \\int_0^{1}dx\\, x q_i(x) + \\int_0^{1}dx\\, x g(x) = 1 $$\n",
    "\n",
    "* Quark number conservation: \n",
    "\n",
    "$$ \\int_0^{1}dx\\, u(x) - \\bar{u}(x) = 2 \\quad\\text{and}\\quad \\int_0^{1}dx\\, d(x) - \\bar{d}(x) = 1  $$\n",
    "\n",
    "\n",
    "Using LHAPDF we can check how these sum rules are not violated during DGLAP evolution.\n"
   ]
  },
  {
   "cell_type": "code",
   "execution_count": 68,
   "id": "510da2a2",
   "metadata": {},
   "outputs": [
    {
     "name": "stdout",
     "output_type": "stream",
     "text": [
      "LHAPDF 6.5.4 loading /Users/manuel/Desktop/ComoSchool/share/LHAPDF/my_ct14llo/my_ct14llo_0000.dat\n",
      "my_ct14llo PDF set, member #0, version 1\n",
      "d sum rule evaluated to : 0.9999798290059838\n",
      "u sum rule evaluated to : 1.999997209947598\n",
      "Sum result:  0.9846279189935384\n"
     ]
    }
   ],
   "source": [
    "from scipy.integrate import quad\n",
    "\n",
    "# select the PDF\n",
    "pdf = lhapdf.mkPDF(\"my_ct14llo\")\n",
    "\n",
    "# set a  mu scale\n",
    "mu = 25.0\n",
    "\n",
    "\n",
    "# define the integrand\n",
    "def integrand(pid, x):\n",
    "    return (pdf.xfxQ2(pid, x, mu**2) - pdf.xfxQ2(-pid, x, mu**2)) / x\n",
    "\n",
    "\n",
    "def integrand2(pid,x):\n",
    "    return pdf.xfxQ2(pid,x,mu**2)\n",
    "    \n",
    "# select up and down pids\n",
    "pids = {\"d\": 1, \"u\": 2}\n",
    "#print(pids(\"u\"))\n",
    "\n",
    "for quark, pid in pids.items():\n",
    "    sum_rule = quad(lambda x: integrand(pid, x), 0, 1, points=(0, 1), epsabs=1e-4)[0]\n",
    "    print(f\"{quark} sum rule evaluated to : {sum_rule}\")\n",
    "\n",
    "#print(pdf.xfxQ2(22,0.3,mu**2))\n",
    "sum_rule2 = sum( quad(lambda x: integrand2(i,x), 0, 1, points=(0, 1), epsabs=1e-4)[0] for i in range(1,5,1) )\n",
    "sum_rule2 = sum_rule2 + sum( quad(lambda x: integrand2(i,x), 0, 1, points=(0, 1), epsabs=1e-4)[0] for i in range(-4,0,1) )\n",
    "sum_rule2 = sum_rule2 + quad(lambda x: integrand2(21,x), 0, 1, points=(0, 1), epsabs=1e-4)[0]\n",
    "print(\"Sum result: \",sum_rule2)"
   ]
  },
  {
   "attachments": {},
   "cell_type": "markdown",
   "id": "eff389f3",
   "metadata": {},
   "source": [
    "**Exercise**: \n",
    "\n",
    "* Modify the code above to check also the momentum sum rule.\n",
    "\n",
    "* Plot the momentum fraction $\\langle q_i\\rangle(\\mu^2)$ of different partons as a function of $\\mu^2$. \n",
    "\n",
    "  $$ \\langle q_i\\rangle(\\mu^2) =  \\int_0^1 x q_i(x, \\mu^2) dx $$\n",
    "  Which behavior do you expect given the discussion above?\n",
    "\n",
    "  (Hint: you need to use a PDF containing many the $\\mu^2$ values ... )\n",
    "\n",
    "* If we interpret splitting functions $P_{ab}$ as the probability of finding the parton $a$ inside the parton $b$, \n",
    "  how does the momentum sum rule look like for splitting functions?\n",
    "  "
   ]
  },
  {
   "attachments": {},
   "cell_type": "markdown",
   "id": "7d683cea",
   "metadata": {},
   "source": [
    "## QCD Higher order order corrections\n",
    "\n",
    "Finally we can compare the effects of DGLAP evolution at different order using always the same boundary PDF set."
   ]
  },
  {
   "cell_type": "code",
   "execution_count": 18,
   "id": "ee0e8a1f",
   "metadata": {},
   "outputs": [
    {
     "name": "stdout",
     "output_type": "stream",
     "text": [
      "LHAPDF 6.5.4 loading /Users/manuel/Desktop/ComoSchool/share/LHAPDF/NNPDF40_nnlo_as_01180/NNPDF40_nnlo_as_01180_0000.dat\n",
      "NNPDF40_nnlo_as_01180 PDF set, member #0, version 1; LHAPDF ID = 331100\n"
     ]
    }
   ],
   "source": [
    "# get the starting PDF object\n",
    "boundary_pdf = lhapdf.mkPDF(\"NNPDF40_nnlo_as_01180\")\n",
    "\n",
    "# setup the operator card\n",
    "op_card = example.operator()\n",
    "op_card.xgrid = eko.interpolation.XGrid(lambertgrid(60))  # x grid\n",
    "op_card.mugrid = [(10, 4), (100, 4)]  # (mu, nf) grid\n",
    "op_card.mu0 = 2.0  # starting point for the evolution\n",
    "\n",
    "# setup the theory card - this can be mostly inferred from the PDF's .info file\n",
    "th_card = example.theory()\n",
    "th_card.heavy.masses = HeavyQuarks(\n",
    "    [QuarkMassRef([1.51, 4]), QuarkMassRef([np.inf, 5]), QuarkMassRef([np.inf, 6])]\n",
    ")  # quark mass, let's use FFNS=4\n",
    "th_card.couplings.max_num_flavs = (\n",
    "    4  # the maximum number of flavors active in the alpha_s evolution\n",
    ")\n",
    "th_card.num_flavs_max_pdf = (\n",
    "    4  # the maximum number of flavors active in the pdf evolution.\n",
    ")\n",
    "th_card.couplings.num_flavs_ref = (\n",
    "    4  # the number of flavors active at the alpha_s reference scale\n",
    ")"
   ]
  },
  {
   "attachments": {},
   "cell_type": "markdown",
   "id": "2a943714",
   "metadata": {},
   "source": [
    "Run LO and NLO"
   ]
  },
  {
   "cell_type": "code",
   "execution_count": 19,
   "id": "462db9fd",
   "metadata": {},
   "outputs": [
    {
     "name": "stdout",
     "output_type": "stream",
     "text": [
      "install_pdf my_LO_pdf\n"
     ]
    }
   ],
   "source": [
    "th_card.order = (1, 0)  # QCD LO\n",
    "path = pathlib.Path(\"./LO.tar\")\n",
    "path.unlink(missing_ok=True)\n",
    "evolve_pdfs(\n",
    "    [boundary_pdf], th_card, op_card, name=\"my_LO_pdf\", store_path=path, install=True\n",
    ")"
   ]
  },
  {
   "cell_type": "code",
   "execution_count": 20,
   "id": "bbb0ec29",
   "metadata": {
    "scrolled": true
   },
   "outputs": [
    {
     "ename": "KeyboardInterrupt",
     "evalue": "",
     "output_type": "error",
     "traceback": [
      "\u001b[0;31m---------------------------------------------------------------------------\u001b[0m",
      "\u001b[0;31mKeyboardInterrupt\u001b[0m                         Traceback (most recent call last)",
      "Cell \u001b[0;32mIn[20], line 4\u001b[0m\n\u001b[1;32m      2\u001b[0m path \u001b[38;5;241m=\u001b[39m pathlib\u001b[38;5;241m.\u001b[39mPath(\u001b[38;5;124m\"\u001b[39m\u001b[38;5;124m./NLO.tar\u001b[39m\u001b[38;5;124m\"\u001b[39m)\n\u001b[1;32m      3\u001b[0m path\u001b[38;5;241m.\u001b[39munlink(missing_ok\u001b[38;5;241m=\u001b[39m\u001b[38;5;28;01mTrue\u001b[39;00m)\n\u001b[0;32m----> 4\u001b[0m \u001b[43mevolve_pdfs\u001b[49m\u001b[43m(\u001b[49m\n\u001b[1;32m      5\u001b[0m \u001b[43m    \u001b[49m\u001b[43m[\u001b[49m\u001b[43mboundary_pdf\u001b[49m\u001b[43m]\u001b[49m\u001b[43m,\u001b[49m\u001b[43m \u001b[49m\u001b[43mth_card\u001b[49m\u001b[43m,\u001b[49m\u001b[43m \u001b[49m\u001b[43mop_card\u001b[49m\u001b[43m,\u001b[49m\u001b[43m \u001b[49m\u001b[43mname\u001b[49m\u001b[38;5;241;43m=\u001b[39;49m\u001b[38;5;124;43m\"\u001b[39;49m\u001b[38;5;124;43mmy_NLO_pdf\u001b[39;49m\u001b[38;5;124;43m\"\u001b[39;49m\u001b[43m,\u001b[49m\u001b[43m \u001b[49m\u001b[43mstore_path\u001b[49m\u001b[38;5;241;43m=\u001b[39;49m\u001b[43mpath\u001b[49m\u001b[43m,\u001b[49m\u001b[43m \u001b[49m\u001b[43minstall\u001b[49m\u001b[38;5;241;43m=\u001b[39;49m\u001b[38;5;28;43;01mTrue\u001b[39;49;00m\n\u001b[1;32m      6\u001b[0m \u001b[43m)\u001b[49m\n",
      "File \u001b[0;32m/usr/local/lib/python3.11/site-packages/ekobox/evol_pdf.py:57\u001b[0m, in \u001b[0;36mevolve_pdfs\u001b[0;34m(initial_PDF_list, theory_card, operators_card, path, store_path, targetgrid, install, name, info_update)\u001b[0m\n\u001b[1;32m     55\u001b[0m     \u001b[38;5;28;01mif\u001b[39;00m store_path \u001b[38;5;129;01mis\u001b[39;00m \u001b[38;5;28;01mNone\u001b[39;00m:\n\u001b[1;32m     56\u001b[0m         \u001b[38;5;28;01mraise\u001b[39;00m \u001b[38;5;167;01mValueError\u001b[39;00m(\u001b[38;5;124m\"\u001b[39m\u001b[38;5;124m'\u001b[39m\u001b[38;5;124mstore_path\u001b[39m\u001b[38;5;124m'\u001b[39m\u001b[38;5;124m required if \u001b[39m\u001b[38;5;124m'\u001b[39m\u001b[38;5;124mpath\u001b[39m\u001b[38;5;124m'\u001b[39m\u001b[38;5;124m is not provided.\u001b[39m\u001b[38;5;124m\"\u001b[39m)\n\u001b[0;32m---> 57\u001b[0m     \u001b[43meko\u001b[49m\u001b[38;5;241;43m.\u001b[39;49m\u001b[43msolve\u001b[49m\u001b[43m(\u001b[49m\u001b[43mtheory_card\u001b[49m\u001b[43m,\u001b[49m\u001b[43m \u001b[49m\u001b[43moperators_card\u001b[49m\u001b[43m,\u001b[49m\u001b[43m \u001b[49m\u001b[43mpath\u001b[49m\u001b[38;5;241;43m=\u001b[39;49m\u001b[43mstore_path\u001b[49m\u001b[43m)\u001b[49m\n\u001b[1;32m     58\u001b[0m     eko_path \u001b[38;5;241m=\u001b[39m store_path\n\u001b[1;32m     60\u001b[0m evolved_PDF_list \u001b[38;5;241m=\u001b[39m []\n",
      "File \u001b[0;32m/usr/local/lib/python3.11/site-packages/eko/runner/__init__.py:39\u001b[0m, in \u001b[0;36msolve\u001b[0;34m(theory_card, operators_card, path)\u001b[0m\n\u001b[1;32m     19\u001b[0m \u001b[38;5;250m\u001b[39m\u001b[38;5;124mr\u001b[39m\u001b[38;5;124;03m\"\"\"Solve DGLAP equations in terms of evolution kernel operators (EKO).\u001b[39;00m\n\u001b[1;32m     20\u001b[0m \n\u001b[1;32m     21\u001b[0m \u001b[38;5;124;03mThe EKO :math:`\\mathbf E_{k,j}(a_s^1\\leftarrow a_s^0)` is determined in order\u001b[39;00m\n\u001b[0;32m   (...)\u001b[0m\n\u001b[1;32m     36\u001b[0m \n\u001b[1;32m     37\u001b[0m \u001b[38;5;124;03m\"\"\"\u001b[39;00m\n\u001b[1;32m     38\u001b[0m \u001b[38;5;66;03m# TODO: drop this\u001b[39;00m\n\u001b[0;32m---> 39\u001b[0m \u001b[43mlegacy\u001b[49m\u001b[38;5;241;43m.\u001b[39;49m\u001b[43mRunner\u001b[49m\u001b[43m(\u001b[49m\u001b[43mtheory_card\u001b[49m\u001b[43m,\u001b[49m\u001b[43m \u001b[49m\u001b[43moperators_card\u001b[49m\u001b[43m,\u001b[49m\u001b[43m \u001b[49m\u001b[43mpath\u001b[49m\u001b[43m)\u001b[49m\u001b[38;5;241;43m.\u001b[39;49m\u001b[43mcompute\u001b[49m\u001b[43m(\u001b[49m\u001b[43m)\u001b[49m\n",
      "File \u001b[0;32m/usr/local/lib/python3.11/site-packages/eko/runner/legacy.py:99\u001b[0m, in \u001b[0;36mRunner.compute\u001b[0;34m(self)\u001b[0m\n\u001b[1;32m     88\u001b[0m \u001b[38;5;250m\u001b[39m\u001b[38;5;124;03m\"\"\"Run evolution and generate output operator.\u001b[39;00m\n\u001b[1;32m     89\u001b[0m \n\u001b[1;32m     90\u001b[0m \u001b[38;5;124;03mTwo steps are applied sequentially:\u001b[39;00m\n\u001b[0;32m   (...)\u001b[0m\n\u001b[1;32m     95\u001b[0m \n\u001b[1;32m     96\u001b[0m \u001b[38;5;124;03m\"\"\"\u001b[39;00m\n\u001b[1;32m     97\u001b[0m \u001b[38;5;28;01mwith\u001b[39;00m EKO\u001b[38;5;241m.\u001b[39medit(\u001b[38;5;28mself\u001b[39m\u001b[38;5;241m.\u001b[39mpath) \u001b[38;5;28;01mas\u001b[39;00m eko:\n\u001b[1;32m     98\u001b[0m     \u001b[38;5;66;03m# add all operators\u001b[39;00m\n\u001b[0;32m---> 99\u001b[0m     \u001b[38;5;28;01mfor\u001b[39;00m ep, op \u001b[38;5;129;01min\u001b[39;00m \u001b[38;5;28;43mself\u001b[39;49m\u001b[38;5;241;43m.\u001b[39;49m\u001b[43mop_grid\u001b[49m\u001b[38;5;241;43m.\u001b[39;49m\u001b[43mcompute\u001b[49m\u001b[43m(\u001b[49m\u001b[43m)\u001b[49m\u001b[38;5;241m.\u001b[39mitems():\n\u001b[1;32m    100\u001b[0m         eko[ep] \u001b[38;5;241m=\u001b[39m Operator(\u001b[38;5;241m*\u001b[39m\u001b[38;5;241m*\u001b[39mop)\n",
      "File \u001b[0;32m/usr/local/lib/python3.11/site-packages/eko/evolution_operator/grid.py:148\u001b[0m, in \u001b[0;36mOperatorGrid.compute\u001b[0;34m(self)\u001b[0m\n\u001b[1;32m    146\u001b[0m \u001b[38;5;28;01mdef\u001b[39;00m \u001b[38;5;21mcompute\u001b[39m(\u001b[38;5;28mself\u001b[39m) \u001b[38;5;241m-\u001b[39m\u001b[38;5;241m>\u001b[39m Dict[EPoint, \u001b[38;5;28mdict\u001b[39m]:\n\u001b[1;32m    147\u001b[0m \u001b[38;5;250m    \u001b[39m\u001b[38;5;124;03m\"\"\"Compute all ekos for the `q2grid`.\"\"\"\u001b[39;00m\n\u001b[0;32m--> 148\u001b[0m     \u001b[38;5;28;01mreturn\u001b[39;00m \u001b[43m{\u001b[49m\u001b[43mq2\u001b[49m\u001b[43m:\u001b[49m\u001b[43m \u001b[49m\u001b[38;5;28;43mself\u001b[39;49m\u001b[38;5;241;43m.\u001b[39;49m\u001b[43mgenerate\u001b[49m\u001b[43m(\u001b[49m\u001b[43mq2\u001b[49m\u001b[43m)\u001b[49m\u001b[43m \u001b[49m\u001b[38;5;28;43;01mfor\u001b[39;49;00m\u001b[43m \u001b[49m\u001b[43mq2\u001b[49m\u001b[43m \u001b[49m\u001b[38;5;129;43;01min\u001b[39;49;00m\u001b[43m \u001b[49m\u001b[38;5;28;43mself\u001b[39;49m\u001b[38;5;241;43m.\u001b[39;49m\u001b[43mq2_grid\u001b[49m\u001b[43m}\u001b[49m\n",
      "File \u001b[0;32m/usr/local/lib/python3.11/site-packages/eko/evolution_operator/grid.py:148\u001b[0m, in \u001b[0;36m<dictcomp>\u001b[0;34m(.0)\u001b[0m\n\u001b[1;32m    146\u001b[0m \u001b[38;5;28;01mdef\u001b[39;00m \u001b[38;5;21mcompute\u001b[39m(\u001b[38;5;28mself\u001b[39m) \u001b[38;5;241m-\u001b[39m\u001b[38;5;241m>\u001b[39m Dict[EPoint, \u001b[38;5;28mdict\u001b[39m]:\n\u001b[1;32m    147\u001b[0m \u001b[38;5;250m    \u001b[39m\u001b[38;5;124;03m\"\"\"Compute all ekos for the `q2grid`.\"\"\"\u001b[39;00m\n\u001b[0;32m--> 148\u001b[0m     \u001b[38;5;28;01mreturn\u001b[39;00m {q2: \u001b[38;5;28;43mself\u001b[39;49m\u001b[38;5;241;43m.\u001b[39;49m\u001b[43mgenerate\u001b[49m\u001b[43m(\u001b[49m\u001b[43mq2\u001b[49m\u001b[43m)\u001b[49m \u001b[38;5;28;01mfor\u001b[39;00m q2 \u001b[38;5;129;01min\u001b[39;00m \u001b[38;5;28mself\u001b[39m\u001b[38;5;241m.\u001b[39mq2_grid}\n",
      "File \u001b[0;32m/usr/local/lib/python3.11/site-packages/eko/evolution_operator/grid.py:162\u001b[0m, in \u001b[0;36mOperatorGrid.generate\u001b[0;34m(self, q2)\u001b[0m\n\u001b[1;32m    160\u001b[0m \u001b[38;5;66;03m# we start composing with the highest operator ...\u001b[39;00m\n\u001b[1;32m    161\u001b[0m operator \u001b[38;5;241m=\u001b[39m Operator(\u001b[38;5;28mself\u001b[39m\u001b[38;5;241m.\u001b[39mconfig, \u001b[38;5;28mself\u001b[39m\u001b[38;5;241m.\u001b[39mmanagers, path[\u001b[38;5;241m-\u001b[39m\u001b[38;5;241m1\u001b[39m])\n\u001b[0;32m--> 162\u001b[0m \u001b[43moperator\u001b[49m\u001b[38;5;241;43m.\u001b[39;49m\u001b[43mcompute\u001b[49m\u001b[43m(\u001b[49m\u001b[43m)\u001b[49m\n\u001b[1;32m    164\u001b[0m is_downward \u001b[38;5;241m=\u001b[39m is_downward_path(path)\n\u001b[1;32m    165\u001b[0m intrinsic_range \u001b[38;5;241m=\u001b[39m [\u001b[38;5;241m4\u001b[39m, \u001b[38;5;241m5\u001b[39m, \u001b[38;5;241m6\u001b[39m] \u001b[38;5;28;01mif\u001b[39;00m is_downward \u001b[38;5;28;01melse\u001b[39;00m \u001b[38;5;28mself\u001b[39m\u001b[38;5;241m.\u001b[39mconfig[\u001b[38;5;124m\"\u001b[39m\u001b[38;5;124mintrinsic_range\u001b[39m\u001b[38;5;124m\"\u001b[39m]\n",
      "File \u001b[0;32m/usr/local/lib/python3.11/site-packages/eko/evolution_operator/__init__.py:952\u001b[0m, in \u001b[0;36mOperator.compute\u001b[0;34m(self)\u001b[0m\n\u001b[1;32m    938\u001b[0m     logger\u001b[38;5;241m.\u001b[39minfo(\n\u001b[1;32m    939\u001b[0m         \u001b[38;5;124m\"\u001b[39m\u001b[38;5;132;01m%s\u001b[39;00m\u001b[38;5;124m: a_em distance: \u001b[39m\u001b[38;5;132;01m%e\u001b[39;00m\u001b[38;5;124m -> \u001b[39m\u001b[38;5;132;01m%e\u001b[39;00m\u001b[38;5;124m\"\u001b[39m,\n\u001b[1;32m    940\u001b[0m         \u001b[38;5;28mself\u001b[39m\u001b[38;5;241m.\u001b[39mlog_label,\n\u001b[1;32m    941\u001b[0m         \u001b[38;5;28mself\u001b[39m\u001b[38;5;241m.\u001b[39ma_em[\u001b[38;5;241m0\u001b[39m],\n\u001b[1;32m    942\u001b[0m         \u001b[38;5;28mself\u001b[39m\u001b[38;5;241m.\u001b[39ma_em[\u001b[38;5;241m1\u001b[39m],\n\u001b[1;32m    943\u001b[0m     )\n\u001b[1;32m    944\u001b[0m logger\u001b[38;5;241m.\u001b[39minfo(\n\u001b[1;32m    945\u001b[0m     \u001b[38;5;124m\"\u001b[39m\u001b[38;5;132;01m%s\u001b[39;00m\u001b[38;5;124m: order: (\u001b[39m\u001b[38;5;132;01m%d\u001b[39;00m\u001b[38;5;124m, \u001b[39m\u001b[38;5;132;01m%d\u001b[39;00m\u001b[38;5;124m), solution strategy: \u001b[39m\u001b[38;5;132;01m%s\u001b[39;00m\u001b[38;5;124m\"\u001b[39m,\n\u001b[1;32m    946\u001b[0m     \u001b[38;5;28mself\u001b[39m\u001b[38;5;241m.\u001b[39mlog_label,\n\u001b[0;32m   (...)\u001b[0m\n\u001b[1;32m    949\u001b[0m     \u001b[38;5;28mself\u001b[39m\u001b[38;5;241m.\u001b[39mconfig[\u001b[38;5;124m\"\u001b[39m\u001b[38;5;124mmethod\u001b[39m\u001b[38;5;124m\"\u001b[39m],\n\u001b[1;32m    950\u001b[0m )\n\u001b[0;32m--> 952\u001b[0m \u001b[38;5;28;43mself\u001b[39;49m\u001b[38;5;241;43m.\u001b[39;49m\u001b[43mintegrate\u001b[49m\u001b[43m(\u001b[49m\u001b[43m)\u001b[49m\n\u001b[1;32m    953\u001b[0m \u001b[38;5;66;03m# copy non-singlet kernels, if necessary\u001b[39;00m\n\u001b[1;32m    954\u001b[0m \u001b[38;5;28mself\u001b[39m\u001b[38;5;241m.\u001b[39mcopy_ns_ops()\n",
      "File \u001b[0;32m/usr/local/lib/python3.11/site-packages/eko/evolution_operator/__init__.py:969\u001b[0m, in \u001b[0;36mOperator.integrate\u001b[0;34m(self)\u001b[0m\n\u001b[1;32m    967\u001b[0m \u001b[38;5;28;01melse\u001b[39;00m:\n\u001b[1;32m    968\u001b[0m     \u001b[38;5;28;01mwith\u001b[39;00m Pool(\u001b[38;5;28mself\u001b[39m\u001b[38;5;241m.\u001b[39mn_pools) \u001b[38;5;28;01mas\u001b[39;00m pool:\n\u001b[0;32m--> 969\u001b[0m         res \u001b[38;5;241m=\u001b[39m \u001b[43mpool\u001b[49m\u001b[38;5;241;43m.\u001b[39;49m\u001b[43mmap\u001b[49m\u001b[43m(\u001b[49m\u001b[38;5;241;43m*\u001b[39;49m\u001b[43margs\u001b[49m\u001b[43m)\u001b[49m\n\u001b[1;32m    971\u001b[0m \u001b[38;5;66;03m# collect results\u001b[39;00m\n\u001b[1;32m    972\u001b[0m \u001b[38;5;28;01mfor\u001b[39;00m k, row \u001b[38;5;129;01min\u001b[39;00m \u001b[38;5;28menumerate\u001b[39m(res):\n",
      "File \u001b[0;32m/usr/local/Cellar/python@3.11/3.11.4_1/Frameworks/Python.framework/Versions/3.11/lib/python3.11/multiprocessing/pool.py:367\u001b[0m, in \u001b[0;36mPool.map\u001b[0;34m(self, func, iterable, chunksize)\u001b[0m\n\u001b[1;32m    362\u001b[0m \u001b[38;5;28;01mdef\u001b[39;00m \u001b[38;5;21mmap\u001b[39m(\u001b[38;5;28mself\u001b[39m, func, iterable, chunksize\u001b[38;5;241m=\u001b[39m\u001b[38;5;28;01mNone\u001b[39;00m):\n\u001b[1;32m    363\u001b[0m \u001b[38;5;250m    \u001b[39m\u001b[38;5;124;03m'''\u001b[39;00m\n\u001b[1;32m    364\u001b[0m \u001b[38;5;124;03m    Apply `func` to each element in `iterable`, collecting the results\u001b[39;00m\n\u001b[1;32m    365\u001b[0m \u001b[38;5;124;03m    in a list that is returned.\u001b[39;00m\n\u001b[1;32m    366\u001b[0m \u001b[38;5;124;03m    '''\u001b[39;00m\n\u001b[0;32m--> 367\u001b[0m     \u001b[38;5;28;01mreturn\u001b[39;00m \u001b[38;5;28;43mself\u001b[39;49m\u001b[38;5;241;43m.\u001b[39;49m\u001b[43m_map_async\u001b[49m\u001b[43m(\u001b[49m\u001b[43mfunc\u001b[49m\u001b[43m,\u001b[49m\u001b[43m \u001b[49m\u001b[43miterable\u001b[49m\u001b[43m,\u001b[49m\u001b[43m \u001b[49m\u001b[43mmapstar\u001b[49m\u001b[43m,\u001b[49m\u001b[43m \u001b[49m\u001b[43mchunksize\u001b[49m\u001b[43m)\u001b[49m\u001b[38;5;241;43m.\u001b[39;49m\u001b[43mget\u001b[49m\u001b[43m(\u001b[49m\u001b[43m)\u001b[49m\n",
      "File \u001b[0;32m/usr/local/Cellar/python@3.11/3.11.4_1/Frameworks/Python.framework/Versions/3.11/lib/python3.11/multiprocessing/pool.py:768\u001b[0m, in \u001b[0;36mApplyResult.get\u001b[0;34m(self, timeout)\u001b[0m\n\u001b[1;32m    767\u001b[0m \u001b[38;5;28;01mdef\u001b[39;00m \u001b[38;5;21mget\u001b[39m(\u001b[38;5;28mself\u001b[39m, timeout\u001b[38;5;241m=\u001b[39m\u001b[38;5;28;01mNone\u001b[39;00m):\n\u001b[0;32m--> 768\u001b[0m     \u001b[38;5;28;43mself\u001b[39;49m\u001b[38;5;241;43m.\u001b[39;49m\u001b[43mwait\u001b[49m\u001b[43m(\u001b[49m\u001b[43mtimeout\u001b[49m\u001b[43m)\u001b[49m\n\u001b[1;32m    769\u001b[0m     \u001b[38;5;28;01mif\u001b[39;00m \u001b[38;5;129;01mnot\u001b[39;00m \u001b[38;5;28mself\u001b[39m\u001b[38;5;241m.\u001b[39mready():\n\u001b[1;32m    770\u001b[0m         \u001b[38;5;28;01mraise\u001b[39;00m \u001b[38;5;167;01mTimeoutError\u001b[39;00m\n",
      "File \u001b[0;32m/usr/local/Cellar/python@3.11/3.11.4_1/Frameworks/Python.framework/Versions/3.11/lib/python3.11/multiprocessing/pool.py:765\u001b[0m, in \u001b[0;36mApplyResult.wait\u001b[0;34m(self, timeout)\u001b[0m\n\u001b[1;32m    764\u001b[0m \u001b[38;5;28;01mdef\u001b[39;00m \u001b[38;5;21mwait\u001b[39m(\u001b[38;5;28mself\u001b[39m, timeout\u001b[38;5;241m=\u001b[39m\u001b[38;5;28;01mNone\u001b[39;00m):\n\u001b[0;32m--> 765\u001b[0m     \u001b[38;5;28;43mself\u001b[39;49m\u001b[38;5;241;43m.\u001b[39;49m\u001b[43m_event\u001b[49m\u001b[38;5;241;43m.\u001b[39;49m\u001b[43mwait\u001b[49m\u001b[43m(\u001b[49m\u001b[43mtimeout\u001b[49m\u001b[43m)\u001b[49m\n",
      "File \u001b[0;32m/usr/local/Cellar/python@3.11/3.11.4_1/Frameworks/Python.framework/Versions/3.11/lib/python3.11/threading.py:622\u001b[0m, in \u001b[0;36mEvent.wait\u001b[0;34m(self, timeout)\u001b[0m\n\u001b[1;32m    620\u001b[0m signaled \u001b[38;5;241m=\u001b[39m \u001b[38;5;28mself\u001b[39m\u001b[38;5;241m.\u001b[39m_flag\n\u001b[1;32m    621\u001b[0m \u001b[38;5;28;01mif\u001b[39;00m \u001b[38;5;129;01mnot\u001b[39;00m signaled:\n\u001b[0;32m--> 622\u001b[0m     signaled \u001b[38;5;241m=\u001b[39m \u001b[38;5;28;43mself\u001b[39;49m\u001b[38;5;241;43m.\u001b[39;49m\u001b[43m_cond\u001b[49m\u001b[38;5;241;43m.\u001b[39;49m\u001b[43mwait\u001b[49m\u001b[43m(\u001b[49m\u001b[43mtimeout\u001b[49m\u001b[43m)\u001b[49m\n\u001b[1;32m    623\u001b[0m \u001b[38;5;28;01mreturn\u001b[39;00m signaled\n",
      "File \u001b[0;32m/usr/local/Cellar/python@3.11/3.11.4_1/Frameworks/Python.framework/Versions/3.11/lib/python3.11/threading.py:320\u001b[0m, in \u001b[0;36mCondition.wait\u001b[0;34m(self, timeout)\u001b[0m\n\u001b[1;32m    318\u001b[0m \u001b[38;5;28;01mtry\u001b[39;00m:    \u001b[38;5;66;03m# restore state no matter what (e.g., KeyboardInterrupt)\u001b[39;00m\n\u001b[1;32m    319\u001b[0m     \u001b[38;5;28;01mif\u001b[39;00m timeout \u001b[38;5;129;01mis\u001b[39;00m \u001b[38;5;28;01mNone\u001b[39;00m:\n\u001b[0;32m--> 320\u001b[0m         \u001b[43mwaiter\u001b[49m\u001b[38;5;241;43m.\u001b[39;49m\u001b[43macquire\u001b[49m\u001b[43m(\u001b[49m\u001b[43m)\u001b[49m\n\u001b[1;32m    321\u001b[0m         gotit \u001b[38;5;241m=\u001b[39m \u001b[38;5;28;01mTrue\u001b[39;00m\n\u001b[1;32m    322\u001b[0m     \u001b[38;5;28;01melse\u001b[39;00m:\n",
      "\u001b[0;31mKeyboardInterrupt\u001b[0m: "
     ]
    }
   ],
   "source": [
    "th_card.order = (2, 0)  # QCD NLO\n",
    "path = pathlib.Path(\"./NLO.tar\")\n",
    "path.unlink(missing_ok=True)\n",
    "evolve_pdfs(\n",
    "    [boundary_pdf], th_card, op_card, name=\"my_NLO_pdf\", store_path=path, install=True\n",
    ")"
   ]
  },
  {
   "cell_type": "code",
   "execution_count": null,
   "id": "2dfb3e66",
   "metadata": {},
   "outputs": [],
   "source": [
    "th_card.order = (3, 0)  # QCD NNLO\n",
    "path = pathlib.Path(\"./NNLO.tar\")\n",
    "path.unlink(missing_ok=True)\n",
    "evolve_pdfs(\n",
    "    [boundary_pdf], th_card, op_card, name=\"my_NNLO_pdf\", store_path=path, install=True\n",
    ")"
   ]
  },
  {
   "cell_type": "code",
   "execution_count": null,
   "id": "0f3c4eb9",
   "metadata": {},
   "outputs": [],
   "source": [
    "lo = lhapdf.mkPDF(\"my_LO_pdf\")\n",
    "nlo = lhapdf.mkPDF(\"my_NLO_pdf\")\n",
    "nnlo = lhapdf.mkPDF(\"my_NNLO_pdf\")\n",
    "\n",
    "\n",
    "# x_grid\n",
    "x_grid = lambertgrid(60, x_min=1e-2)\n",
    "mu2_grid = np.array([2, 10, 100]) ** 2\n",
    "\n",
    "fig, axes = plt.subplots(1, 3, figsize=(15, 5))\n",
    "\n",
    "# plot the gluon as an example\n",
    "# we're looking at the ratio between two neighbouring orders\n",
    "pid = 21\n",
    "for mu2, ax in zip(mu2_grid, axes):\n",
    "    ax.plot(\n",
    "        x_grid[:-3],\n",
    "        [nlo.xfxQ2(pid, x, mu2) / lo.xfxQ2(pid, x, mu2) for x in x_grid[:-3]],\n",
    "        label=f\"$NLO / LO$\",\n",
    "    )\n",
    "    ax.plot(\n",
    "        x_grid[:-3],\n",
    "        [nnlo.xfxQ2(pid, x, mu2) / nlo.xfxQ2(pid, x, mu2) for x in x_grid[:-3]],\n",
    "        label=f\"$NNLO / NLO$\",\n",
    "    )\n",
    "    ax.axhline(y=1, xmin=x_grid[0], xmax=x_grid[-3], color=\"black\", alpha=0.2)\n",
    "    ax.set_title(f\"$\\mu^2 = {mu2}$\")\n",
    "    ax.set_ylabel(\"$x g(x)$\")\n",
    "    ax.set_xlabel(\"$x$\")\n",
    "    ax.set_xscale(\"log\")\n",
    "    ax.legend()\n",
    "plt.tight_layout()\n",
    "fig;"
   ]
  }
 ],
 "metadata": {
  "kernelspec": {
   "display_name": "Python 3 (ipykernel)",
   "language": "python",
   "name": "python3"
  },
  "language_info": {
   "codemirror_mode": {
    "name": "ipython",
    "version": 3
   },
   "file_extension": ".py",
   "mimetype": "text/x-python",
   "name": "python",
   "nbconvert_exporter": "python",
   "pygments_lexer": "ipython3",
   "version": "3.11.4"
  }
 },
 "nbformat": 4,
 "nbformat_minor": 5
}
