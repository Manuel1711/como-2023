{
 "cells": [
  {
   "cell_type": "markdown",
   "metadata": {},
   "source": [
    "# Introduction to Quantum Machine Learning"
   ]
  },
  {
   "cell_type": "code",
   "execution_count": null,
   "metadata": {
    "slideshow": {
     "slide_type": "slide"
    }
   },
   "outputs": [],
   "source": [
    "import numpy as np\n",
    "import matplotlib.pyplot as plt\n",
    "\n",
    "from qibo.models import Circuit\n",
    "from qibo import gates, hamiltonians, set_backend\n",
    "from qibo.optimizers import optimize\n",
    "\n",
    "set_backend(\"numpy\")"
   ]
  },
  {
   "cell_type": "markdown",
   "metadata": {
    "slideshow": {
     "slide_type": "fragment"
    }
   },
   "source": [
    "## 1. A look back to quantum circuits\n",
    "\n",
    "In particular we will focus on parametric circuits, because we want to use them as machine learning models.\n",
    "\n",
    "A rotational gate can be added to a `qibo` circuit using the command: `circuit.add(qibo.gates.RX(q=q, theta=theta))`,\n",
    "in which you set the ID of the qubit `q` and the angle `theta`.\n",
    "\n",
    "### Building a simple 1-qubit circuit\n",
    "\n",
    "We start building a simple 1-qubit circuit:"
   ]
  },
  {
   "cell_type": "code",
   "execution_count": null,
   "metadata": {
    "slideshow": {
     "slide_type": "fragment"
    }
   },
   "outputs": [],
   "source": [
    "# define a circuit\n",
    "c = Circuit(1)\n",
    "\n",
    "# we can add parametric gates\n",
    "c.add(gates.RY(q=0, theta=0))\n",
    "c.add(gates.RZ(q=0, theta=0))\n",
    "\n",
    "# and a measurement gate\n",
    "c.add(gates.M(0))"
   ]
  },
  {
   "cell_type": "markdown",
   "metadata": {},
   "source": [
    "whose information can be printed as follows:"
   ]
  },
  {
   "cell_type": "code",
   "execution_count": null,
   "metadata": {},
   "outputs": [],
   "source": [
    "# circuit drawing\n",
    "print(c.draw())\n",
    "\n",
    "# and circuit information\n",
    "print(f\"\\n{c.summary()}\")"
   ]
  },
  {
   "cell_type": "markdown",
   "metadata": {},
   "source": [
    "We can also execute the circuit, obtaining a state, in which we collect some informations, like amplitudes and frequencies."
   ]
  },
  {
   "cell_type": "code",
   "execution_count": null,
   "metadata": {},
   "outputs": [],
   "source": [
    "# circuit execution\n",
    "final_state = c.execute(nshots=1000)\n",
    "print(f\"\\nfinal state: {final_state}\")\n",
    "\n",
    "# print probabilities\n",
    "print(f\"\\nprobabilities: {final_state.probabilities(qubits=[0])}\")\n",
    "\n",
    "# print frequencies\n",
    "print(f\"\\nprobabilities: {final_state.frequencies()}\")"
   ]
  },
  {
   "cell_type": "markdown",
   "metadata": {},
   "source": [
    "### A function for printing frequencies"
   ]
  },
  {
   "cell_type": "code",
   "execution_count": null,
   "metadata": {},
   "outputs": [],
   "source": [
    "def visualize_states(counter, ticks_rotation=0):\n",
    "    \"\"\"States visualization.\"\"\"\n",
    " \n",
    "    fig, ax = plt.subplots(figsize=(10,5))\n",
    "\n",
    "    ax.set_title('State visualization')\n",
    "    ax.set_xlabel('States')\n",
    "    ax.set_ylabel('#')\n",
    "\n",
    "    for state in counter:\n",
    "        ax.scatter(state, counter[state], color='purple', alpha=0.5, s=150)\n",
    "        ax.vlines(state, 0, counter[state] - 12, color='black', ls='-', lw=1.2)\n",
    "        \n",
    "    plt.xticks(rotation=ticks_rotation)\n",
    "    \n",
    "    plt.grid(True)"
   ]
  },
  {
   "cell_type": "code",
   "execution_count": null,
   "metadata": {},
   "outputs": [],
   "source": [
    "visualize_states(final_state.frequencies())"
   ]
  },
  {
   "cell_type": "markdown",
   "metadata": {},
   "source": [
    "### Modifying circuits parameters\n",
    "\n",
    "We can modify the circuit's parameters and have access to this information using the following commands:\n",
    "\n",
    "- `circuit.get_parameters()` to get the parameters;\n",
    "- `circuit.set_parameters(new_params)` to set `new_params` as circuit parameters."
   ]
  },
  {
   "cell_type": "code",
   "execution_count": null,
   "metadata": {},
   "outputs": [],
   "source": [
    "# set new angles in the rotations\n",
    "nparams = len(c.get_parameters())\n",
    "print(f\"\\nnparams: {nparams}\")\n",
    "print(f\"params: {c.get_parameters()}\")"
   ]
  },
  {
   "cell_type": "code",
   "execution_count": null,
   "metadata": {},
   "outputs": [],
   "source": [
    "# set a new parameter\n",
    "c.set_parameters(np.random.randn(nparams))\n",
    "print(f\"new params: {c.get_parameters()}\")\n",
    "\n",
    "# circuit execution with new params\n",
    "final_state = c.execute(nshots=1000)\n",
    "print(f\"\\nfinal state: {final_state}\")"
   ]
  },
  {
   "cell_type": "code",
   "execution_count": null,
   "metadata": {},
   "outputs": [],
   "source": [
    "# print probabilities\n",
    "print(f\"\\nprobabilities: {final_state.probabilities(qubits=[0])}\")\n",
    "\n",
    "# print frequencies\n",
    "print(f\"\\nprobabilities: {final_state.frequencies()}\")"
   ]
  },
  {
   "cell_type": "code",
   "execution_count": null,
   "metadata": {},
   "outputs": [],
   "source": [
    "visualize_states(final_state.frequencies())"
   ]
  },
  {
   "cell_type": "markdown",
   "metadata": {},
   "source": [
    "### Defining an Hamiltonian\n",
    "\n",
    "We are going to define target Hamiltonians in order to use their expected value over some final state as QML predictor.\n",
    "An Hamiltonian can be defined as follows with `Qibo`:"
   ]
  },
  {
   "cell_type": "code",
   "execution_count": null,
   "metadata": {},
   "outputs": [],
   "source": [
    "# set hamiltonian\n",
    "h = hamiltonians.Z(nqubits=1) \n",
    "print(f\"Hamiltonian:\\n{h.matrix}\")\n",
    "\n",
    "# expectation\n",
    "print(f\"\\nExpectation: {h.expectation(c.execute().state())}\")"
   ]
  },
  {
   "cell_type": "markdown",
   "metadata": {},
   "source": [
    "## 2. Play with parametric gates"
   ]
  },
  {
   "cell_type": "code",
   "execution_count": null,
   "metadata": {},
   "outputs": [],
   "source": [
    "x_angles = np.linspace(-2*np.pi, 2*np.pi, 100)\n",
    "y_angles = np.linspace(0, np.pi, 100)\n",
    "\n",
    "expectations = []\n",
    "\n",
    "for x, y in zip(x_angles, y_angles):\n",
    "    c.set_parameters([x, y])\n",
    "    expectations.append(h.expectation(c.execute().state()))"
   ]
  },
  {
   "cell_type": "code",
   "execution_count": null,
   "metadata": {},
   "outputs": [],
   "source": [
    "def plot_expectations(energies):\n",
    "    \"\"\"Plot energy in function of the epochs\"\"\"\n",
    "    plt.figure(figsize=(8,5))\n",
    "    plt.title(\"Energy over training\")\n",
    "    plt.plot(energies, color=\"purple\", alpha=0.7, lw=2, label=\"Energy values\")\n",
    "    plt.xlabel(r\"$\\theta$\")\n",
    "    plt.ylabel(\"E\")\n",
    "    plt.grid(True)\n",
    "    plt.legend()\n",
    "    plt.show()"
   ]
  },
  {
   "cell_type": "code",
   "execution_count": null,
   "metadata": {},
   "outputs": [],
   "source": [
    "plot_expectations(expectations)"
   ]
  },
  {
   "cell_type": "markdown",
   "metadata": {},
   "source": [
    "## 3. Injecting information into a circuit\n",
    "\n",
    "We can define a big class of parametric circuits, which can be called Variational \n",
    "Quantum Circuits (VQC), in whose parametric gates we can inject **both** data and \n",
    "variational parameters!\n",
    "\n",
    "<img src=\"figures/vqc.png\" width=\"600\" height=\"600\" align=\"center\"/>\n",
    "\n",
    "One way to embed data in QML is to define some uploading layer into the circuit and then to \n",
    "repeat the uploading of the data many times [1]. "
   ]
  },
  {
   "cell_type": "code",
   "execution_count": null,
   "metadata": {},
   "outputs": [],
   "source": [
    "# define a circuit composed of nlayers\n",
    "\n",
    "def build_vqc(nqubits, nlayers):\n",
    "    \"\"\"Build VQC composed of nqubits and nlayers\"\"\"\n",
    "    \n",
    "    # init circuit\n",
    "    vqc = Circuit(nqubits)\n",
    "    \n",
    "    # loop over layers\n",
    "    for l in range(nlayers):\n",
    "        # loop over qubits\n",
    "        for q in range(nqubits):\n",
    "            vqc.add(gates.RY(q=q, theta=0))\n",
    "            vqc.add(gates.RY(q=q, theta=0))\n",
    "            vqc.add(gates.RZ(q=q, theta=0))\n",
    "            vqc.add(gates.RZ(q=q, theta=0))\n",
    "        # we add an entangling channel at the end of each layer\n",
    "        for q in range(0, nqubits-1):\n",
    "            vqc.add(gates.CNOT(q0=q, q1=q+1))\n",
    "        vqc.add(gates.CNOT(q0=nqubits-1, q1=0))\n",
    "    # we add one measurement gate for each qubit\n",
    "    vqc.add(gates.M(*range(nqubits)))\n",
    "    \n",
    "    return vqc"
   ]
  },
  {
   "cell_type": "markdown",
   "metadata": {},
   "source": [
    "In the previous VQC definition, some CNOT gates are appended to the circuit. These gates are super important to create **entanglement** in the system, as you already know from the previous Quantum Computing tutorial!"
   ]
  },
  {
   "cell_type": "code",
   "execution_count": null,
   "metadata": {},
   "outputs": [],
   "source": [
    "nqubits = 4\n",
    "nlayers = 3\n",
    "\n",
    "vqc = build_vqc(nqubits=nqubits, nlayers=nlayers)\n",
    "print(vqc.draw())"
   ]
  },
  {
   "cell_type": "markdown",
   "metadata": {},
   "source": [
    "### Combine data and parameters while filling the circuit"
   ]
  },
  {
   "cell_type": "code",
   "execution_count": null,
   "metadata": {},
   "outputs": [],
   "source": [
    "# define a way for uploading both data and parameters\n",
    "\n",
    "def inject_data(circuit, nlayers, parameters, x):\n",
    "    \"\"\"Inject data and params into the circuit.\"\"\"\n",
    "    \n",
    "    # empty list of parameters\n",
    "    params = []\n",
    "    # we keep track of the index\n",
    "    index = 0\n",
    "\n",
    "    # loop over layers\n",
    "    for l in range(nlayers):\n",
    "        # loop over qubits\n",
    "        for q in range(circuit.nqubits):\n",
    "            # we fill the first RY with param * x\n",
    "            params.append(parameters[index] * x)\n",
    "            # bias\n",
    "            params.append(parameters[index + 1])\n",
    "            # we fill the first RZ with param * x\n",
    "            params.append(parameters[index + 2] * x)\n",
    "            # bias\n",
    "            params.append(parameters[index + 3])\n",
    "\n",
    "            # update index counter to prepare the next 4 parameters\n",
    "            index += 4\n",
    "    \n",
    "    # set the new parameters affected by x into the circuit and return it\n",
    "    circuit.set_parameters(params)\n",
    "    return circuit"
   ]
  },
  {
   "cell_type": "code",
   "execution_count": null,
   "metadata": {},
   "outputs": [],
   "source": [
    "# set random parameters inside the circuit\n",
    "np.random.seed(42)\n",
    "old_params = np.random.randn(len(vqc.get_parameters()))\n",
    "print(old_params)"
   ]
  },
  {
   "cell_type": "code",
   "execution_count": null,
   "metadata": {},
   "outputs": [],
   "source": [
    "# inject data\n",
    "x = 2\n",
    "\n",
    "vqc = inject_data(circuit=vqc, nlayers=nlayers, parameters=old_params, x=x)\n",
    "\n",
    "# get new params after the injection\n",
    "new_params = vqc.get_parameters()\n",
    "\n",
    "# sanity check\n",
    "print(\"Check the even params are doubled:\\n\")\n",
    "for p in range(8):\n",
    "    print(f\"Old value: {old_params[p]:.4}\\t New value: {new_params[p][0]:.4}\")"
   ]
  },
  {
   "cell_type": "markdown",
   "metadata": {},
   "source": [
    "### Check the final state "
   ]
  },
  {
   "cell_type": "code",
   "execution_count": null,
   "metadata": {},
   "outputs": [],
   "source": [
    "# final state \n",
    "fstate = vqc.execute(nshots=1000)\n",
    "\n",
    "# frequencies\n",
    "visualize_states(fstate.frequencies(), ticks_rotation=60)"
   ]
  },
  {
   "cell_type": "markdown",
   "metadata": {},
   "source": [
    "## 4. A snapshot of quantum machine learning\n",
    "\n",
    "<img src=\"figures/qml.png\" width=\"1000\" height=\"1000\" align=\"center\"/>\n"
   ]
  },
  {
   "cell_type": "markdown",
   "metadata": {},
   "source": [
    "## 5. Exercise: tune circuit parameters to get a target value"
   ]
  },
  {
   "cell_type": "markdown",
   "metadata": {},
   "source": [
    "Define:\n",
    "1. a 1-qubit circuit with two parametrized gates: an RY followed by an RZ, with a measurement gate in the end;\n",
    "2. an 1-qubit hamiltonian to be used as target observable: in particular I suggest you to use a pauli Z;\n",
    "3. a target variable `target=0.5`;\n",
    "4. initialize the two parameters of the circuit to some value (this choice should be done in a reasonable way in principle, but in case of large circuits the parameters can also be set randomly);\n",
    "5. use `qibo.optimizers.optimize` module with `method=\"cma\"` to find the optimized params and passing as loss function the one suggested some cells below (the optimize method will return also the best set of parameters);\n",
    "6. compute the expected value of the hamiltonian on the state we obtain by executing the circuit filled with the best parameters returned by the CMA optimizer;"
   ]
  },
  {
   "cell_type": "code",
   "execution_count": null,
   "metadata": {},
   "outputs": [],
   "source": [
    "# set model\n",
    "\n",
    "# set hamiltonian\n",
    "\n",
    "# target value"
   ]
  },
  {
   "cell_type": "code",
   "execution_count": null,
   "metadata": {},
   "outputs": [],
   "source": [
    "def loss(parameters, hamiltonian, model, target):\n",
    "    \"\"\"Mean Squared Error with y_target given model and hamiltonian.\"\"\"\n",
    "    model.set_parameters(parameters)\n",
    "    expectation = hamiltonian.expectation(model.execute().state())\n",
    "    return (expectation-target)**2"
   ]
  },
  {
   "cell_type": "markdown",
   "metadata": {},
   "source": [
    "## Question: can you tackle any target value using this setup?"
   ]
  }
 ],
 "metadata": {
  "kernelspec": {
   "display_name": "Python 3 (ipykernel)",
   "language": "python",
   "name": "python3"
  },
  "language_info": {
   "codemirror_mode": {
    "name": "ipython",
    "version": 3
   },
   "file_extension": ".py",
   "mimetype": "text/x-python",
   "name": "python",
   "nbconvert_exporter": "python",
   "pygments_lexer": "ipython3",
   "version": "3.8.10"
  }
 },
 "nbformat": 4,
 "nbformat_minor": 4
}
