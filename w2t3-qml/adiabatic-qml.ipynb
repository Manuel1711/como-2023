{
 "cells": [
  {
   "cell_type": "code",
   "execution_count": null,
   "metadata": {},
   "outputs": [],
   "source": [
    "import numpy as np\n",
    "import matplotlib.pyplot as plt\n",
    "\n",
    "from qibo import hamiltonians, set_backend\n",
    "from qibo.derivative import parameter_shift\n",
    "\n",
    "from qaml_scripts.evolution import generate_adiabatic\n",
    "from qaml_scripts.training import train_adiabatic_evolution\n",
    "from qaml_scripts.rotational_circuit import rotational_circuit\n",
    "\n",
    "set_backend(\"numpy\")"
   ]
  },
  {
   "cell_type": "markdown",
   "metadata": {},
   "source": [
    "# Determining probability density functions with adiabatic quantum computing [1]\n",
    "\n",
    "Our goal is to fit PDFs. In a few words, we want a model which, given data $x$ sampled \n",
    "from a distribution $\\rho$,\n",
    "returns an estimation of the PDF: $\\hat{\\rho}(x)$.\n",
    "For doing this, we start by fitting the Cumulative Density Function $F$ of the sample.\n",
    "\n",
    "The strategy will be the following:\n",
    "\n",
    "<img src=\"figures/pdf_est.png\" width=\"800\" height=\"800\" align=\"center\"/>"
   ]
  },
  {
   "cell_type": "markdown",
   "metadata": {},
   "source": [
    "## 1. CDF and PDF"
   ]
  },
  {
   "cell_type": "code",
   "execution_count": null,
   "metadata": {},
   "outputs": [],
   "source": [
    "# a normal sample\n",
    "s = np.random.randn(10000)\n",
    "\n",
    "plt.figure(figsize=(12,4))\n",
    "\n",
    "plt.subplot(1,2,1)\n",
    "plt.title(\"PDF histogram\")\n",
    "plt.hist(s, bins=20, color=\"orange\", hatch=\"//\", histtype=\"stepfilled\", edgecolor=\"orange\", alpha=0.3, density=True)\n",
    "plt.hist(s, bins=20, color=\"orange\", alpha=1, lw=1.5, histtype=\"step\", density=True)\n",
    "plt.xlabel('x')\n",
    "plt.ylabel(r\"$\\rho$\")\n",
    "\n",
    "plt.subplot(1,2,2)\n",
    "plt.title(\"CDF histogram\")\n",
    "plt.hist(s, bins=20, color=\"purple\", hatch=\"\\\\\\\\\", histtype=\"stepfilled\", edgecolor=\"purple\", alpha=0.3, density=True, cumulative=True)\n",
    "plt.hist(s, bins=20, color=\"purple\", alpha=1, lw=1.5, histtype=\"step\", density=True, cumulative=True)\n",
    "plt.xlabel('x')\n",
    "plt.ylabel(r\"$F$\")\n",
    "\n",
    "plt.show()"
   ]
  },
  {
   "cell_type": "markdown",
   "metadata": {},
   "source": [
    "> Fitting the CDF is useful because we can label all the points of the sample and \n",
    "> the problem becomes a supervised ML problem. In fact, each point $x_i$ of a sample has an empirical CDF value (the number of points equal smaller than $x_i$), on contrary, by tackling the PDF problem directly, we need to represent the distribution in some way (e.g. with an histogram and a binning), introducing some bias.\n",
    "\n",
    "Once the CDF is fitted, we can calculate the derivative of the CDF in order to get\n",
    "the PDF since:\n",
    "\n",
    "$$ \\rho(x) = \\frac{\\text{d} F(x)}{\\text{d} x}. $$"
   ]
  },
  {
   "cell_type": "markdown",
   "metadata": {},
   "source": [
    "## 2. Adiabatic Evolution in a nutshell\n",
    "\n",
    "Considering a quantum system set to be in an initial configuration described by $H_0$, \n",
    "we call adiabatic evolution (AE) of the system from $H_0$ to $H_1$ ad adiabatic\n",
    "process governed by the following hamiltonian:\n",
    "$$ H_{\\rm ad}(\\tau; \\vec{\\theta}) = \\bigl[1 - s(\\tau; \\vec{\\theta})\\bigr] H_0 + \n",
    "s(\\tau; \\vec{\\theta}) H_1,$$\n",
    "where we define $s(\\tau; \\vec{\\theta})$ scheduling function of the evolution. According\n",
    "to the _adiabatic theorem_, if the process is slow enough, the system remains in\n",
    "the groundstate of $H_{\\rm ad}$ during the evolution.\n",
    "As scheduling function we are going to use a polynomial function of the form:\n",
    "$$ s(\\tau; \\vec{\\theta}) = \\frac{1}{\\Theta} \\sum_{k=0}^{N_{\\rm params}} \\theta_k x^k, \n",
    "\\qquad \\text{with} \\qquad \\Theta = \\sum_{k=1}^{N_{\\rm params}} \\theta_k,$$\n",
    "in order to satisfy the computational condition $s(0)=0$ and $s(1)=1$.\n",
    "\n",
    "## 3. Adiabatic Evolution as tool for encoding CDFs\n",
    "\n",
    "We are going to use the expected value of a Pauli Z over the evolved state as predictor\n",
    "of the CDF. This kind of approach can be useful because, when fitting a CDF, we need to \n",
    "satisfy some conditions:\n",
    "\n",
    "1. the CDF is strictly monotonic;\n",
    "2. $M(x_a) = 0$ and $M(x_b)=1$, with $x_a$ and $x_b$ limits of the random variable \n",
    "   $x$ domain.\n",
    "\n",
    "### Inducing monotonoy\n",
    "\n",
    "Regarding the first point, as heuristic consideration we can think that an adiabatic \n",
    "process is naturally led to follow a \"monotonic\" behaviour. In particular, if the \n",
    "coefficients of the scheduling function are **positive**, we induce the process to \n",
    "be monotonic. \n",
    "\n",
    "### Exploiting the boundaries \n",
    "\n",
    "Secondly, by selecting two hamiltonians $H_0$ and $H_1$ whose energies on the ground state \n",
    "satisfy our boundary conditions, we can easily contrain the problem to our desired\n",
    "requirements.\n",
    "\n",
    "At this point, we can keep track of some energy (as we said, we use the expected value of a \n",
    "Pauli Z) during the evolution $E$. \n",
    "\n",
    "> __The goal:__ we perform the mapping: $(x_j, F_j) \\to (\\tau_j, E_j)$ and we train the\n",
    "> evolution to let energies pass through our training points ${F_j}$. "
   ]
  },
  {
   "cell_type": "markdown",
   "metadata": {},
   "source": [
    "### Adiabatic Evolution settings\n",
    "\n",
    "We need to define an adiabatic evolution in which encoding a Cumulative Density\n",
    "Function. We need to set the energy boundaries to $E(0)=0$ and $E(1)=1$.\n",
    "\n",
    "For doing this, we set $H_0=\\hat{X}$ and $H_1=\\hat{Z}$. If then we set a Pauli Z to be \n",
    "the target observable whose energy is tracked during the evolution:"
   ]
  },
  {
   "cell_type": "code",
   "execution_count": null,
   "metadata": {},
   "outputs": [],
   "source": [
    "hx = hamiltonians.X(nqubits=1)\n",
    "hz = hamiltonians.Z(nqubits=1)\n",
    "\n",
    "print(f\"Expectation of Z over the ground state of a Z: {hz.expectation(hx.ground_state())}\")\n",
    "print(f\"Expectation of Z over the ground state of a Z: {hz.expectation(hz.ground_state())}\")"
   ]
  },
  {
   "cell_type": "markdown",
   "metadata": {},
   "source": [
    "## 4. Set the Adiabatic Evolution "
   ]
  },
  {
   "cell_type": "code",
   "execution_count": null,
   "metadata": {},
   "outputs": [],
   "source": [
    "# Definition of the Adiabatic evolution\n",
    "\n",
    "nqubits = 1\n",
    "finalT = 50\n",
    "dt = 1e-1\n",
    "\n",
    "# rank of the polynomial scheduling\n",
    "nparams = 15\n",
    "\n",
    "# set hamiltonianas\n",
    "h0 = hamiltonians.X(nqubits, dense=True)\n",
    "h1 = hamiltonians.Z(nqubits, dense=True)\n",
    "# we choose a target observable\n",
    "obs_target = h1\n",
    "\n",
    "# ground states of initial and final hamiltonians\n",
    "gs_h0 = h0.ground_state()\n",
    "gs_h1 = h1.ground_state()\n",
    "\n",
    "# energies at the ground states\n",
    "e0 = obs_target.expectation(gs_h0)\n",
    "e1 = obs_target.expectation(gs_h1)\n",
    "\n",
    "print(f\"Energy at 0: {e0}\")\n",
    "print(f\"Energy at 1: {e1}\")\n",
    "\n",
    "# initial guess for parameters\n",
    "# picking up from U(0,1) helps to get the monotony\n",
    "init_params = np.random.uniform(0, 1, nparams)\n",
    "\n",
    "# Number of steps of the adiabatic evolution\n",
    "nsteps = int(finalT/dt)\n",
    "\n",
    "# array of x values, we want it bounded in [0,1]\n",
    "xarr = np.linspace(0, 1, num=nsteps+1, endpoint=True)\n",
    "print(\"\\nFirst ten evolution times:\")\n",
    "print(xarr[0:10])"
   ]
  },
  {
   "cell_type": "code",
   "execution_count": null,
   "metadata": {},
   "outputs": [],
   "source": [
    "# generate an adiabatic evolution object and an energy callbacks container\n",
    "evolution, energy = generate_adiabatic(h0=h0, h1=h1, obs_target=obs_target, dt=dt, params=init_params)\n",
    "# evolve until final time\n",
    "_ = evolution(final_time=finalT)"
   ]
  },
  {
   "cell_type": "markdown",
   "metadata": {},
   "source": [
    "### Some useful plotting functions"
   ]
  },
  {
   "cell_type": "code",
   "execution_count": null,
   "metadata": {},
   "outputs": [],
   "source": [
    "def plot_energy(times, energies, title, cdf=None):\n",
    "    \"\"\"Plot energies\"\"\"\n",
    "    plt.figure(figsize=(8,5))\n",
    "    plt.plot(times, energies, color=\"purple\", lw=2, alpha=0.8, label=\"Energy callbacks\")\n",
    "    if cdf is not None:\n",
    "        plt.plot(times, cdf, color=\"orange\", lw=2, alpha=0.8, label=\"Empirical CDF\")\n",
    "    plt.title(title)\n",
    "    plt.xlabel(r'$\\tau$')\n",
    "    plt.ylabel(\"E\")\n",
    "    plt.grid(True)\n",
    "    plt.legend()\n",
    "    plt.show()\n",
    "\n",
    "def show_sample(times, sample, cdf, title):\n",
    "    \"\"\"Plot energies\"\"\"\n",
    "    plt.figure(figsize=(8,5))\n",
    "    plt.hist(sample, bins=50, color=\"black\", alpha=0.3, cumulative=True, density=True, label=\"Sample\")\n",
    "    plt.plot(times, -cdf, color=\"orange\", lw=2, alpha=0.8, label=\"Target CDF\")\n",
    "    plt.title(title)\n",
    "    plt.xlabel(r'$\\tau$')\n",
    "    plt.ylabel(\"CDF\")\n",
    "    plt.grid(True)\n",
    "    plt.legend()\n",
    "    plt.show()\n",
    "\n",
    "def plot_final_results(times, sample, e, de, title):\n",
    "    \"\"\"Plot final results\"\"\"\n",
    "    plt.figure(figsize=(12,4))\n",
    "\n",
    "    plt.subplot(1,2,1)\n",
    "    plt.title(\"PDF histogram\")\n",
    "    plt.hist(sample, bins=20, color=\"orange\", histtype=\"stepfilled\", edgecolor=\"orange\", hatch=\"//\", alpha=0.3, density=True)\n",
    "    plt.hist(sample, bins=20, color=\"orange\", alpha=1, lw=1.5, histtype=\"step\", density=True)\n",
    "    plt.plot(times, de, color=\"purple\", lw=2, label=r\"Estimated $\\rho$\")\n",
    "    plt.xlabel('x')\n",
    "    plt.ylabel(r\"$\\rho$\")\n",
    "    plt.legend()\n",
    "\n",
    "    plt.subplot(1,2,2)\n",
    "    plt.title(\"CDF histogram\")\n",
    "    plt.hist(sample, bins=20, color=\"orange\", histtype=\"stepfilled\", edgecolor=\"orange\", hatch=\"//\", alpha=0.3, density=True, cumulative=True)\n",
    "    plt.hist(sample, bins=20, color=\"orange\", alpha=1, lw=1.5, histtype=\"step\", density=True, cumulative=True)\n",
    "    plt.plot(times, -np.array(e), color=\"purple\", lw=2, label=r\"Estimated $F$\")\n",
    "    plt.xlabel('x')\n",
    "    plt.ylabel(r\"$F$\")\n",
    "    plt.legend()\n",
    "\n",
    "    plt.tight_layout()\n",
    "    plt.show()"
   ]
  },
  {
   "cell_type": "code",
   "execution_count": null,
   "metadata": {},
   "outputs": [],
   "source": [
    "plot_energy(xarr, energy.results, \"Not trained evolution\")"
   ]
  },
  {
   "cell_type": "markdown",
   "metadata": {},
   "source": [
    "## 5. Sample from a distribution\n",
    "\n",
    "We sample a target dataset from a Gamma distribution."
   ]
  },
  {
   "cell_type": "code",
   "execution_count": null,
   "metadata": {},
   "outputs": [],
   "source": [
    "def cdf_fun(xarr):\n",
    "    \"\"\"Generate a sample of data following a Gamma distribution.\"\"\"\n",
    "    \n",
    "    nvals = 10000\n",
    "    shape = 10\n",
    "    scale = 0.5\n",
    "    \n",
    "    sample = np.random.gamma(shape, scale, nvals)\n",
    "\n",
    "    normed_sample = (sample - np.min(sample)) / (np.max(sample) - np.min(sample)) \n",
    "\n",
    "    h, b = np.histogram(normed_sample, bins=nsteps, range=[0,1], density=False)\n",
    "    # Sanity check\n",
    "    np.testing.assert_allclose(b, xarr)\n",
    "\n",
    "    cdf_raw = np.insert(np.cumsum(h)/len(h), 0, 0)\n",
    "\n",
    "    # Translate the CDF such that it goes from 0 to 1\n",
    "    cdf_norm = (cdf_raw - np.min(cdf_raw)) / (np.max(cdf_raw) - np.min(cdf_raw))\n",
    "    # And now make it go from the E_initial to E_final (E0 to E1)\n",
    "    cdf = e0 + cdf_norm*(e1 - e0)\n",
    "\n",
    "    return cdf, sample, normed_sample"
   ]
  },
  {
   "cell_type": "code",
   "execution_count": null,
   "metadata": {},
   "outputs": [],
   "source": [
    "cdf, sample, normed_sample = cdf_fun(xarr)"
   ]
  },
  {
   "cell_type": "markdown",
   "metadata": {},
   "source": [
    "### A look to the CDF"
   ]
  },
  {
   "cell_type": "code",
   "execution_count": null,
   "metadata": {},
   "outputs": [],
   "source": [
    "show_sample(times=xarr, sample=normed_sample, cdf=cdf, title=\"Target Cumulative Density Function\")\n",
    "plot_energy(times=xarr, energies=energy.results, title=\"Callbacks VS eCDF\", cdf=cdf)"
   ]
  },
  {
   "cell_type": "markdown",
   "metadata": {},
   "source": [
    "## 6. Train the evolution to follow the CDF\n",
    "\n",
    "The training procedure is the following:\n",
    "\n",
    "1. we fill the scheduling with a set of parameters;\n",
    "2. we perform the evolution with the defined set of parameters and we collect all the energies $\\{E_k\\}_{k=1}^{N_{\\rm data}}$, where $E_k$ is the expected value of Z over the evolved state at $\\tau_k \\equiv x_k$.\n",
    "3. we calculate a loss function:\n",
    "   $$ J_{\\rm mse} = \\frac{1}{N_{\\rm data}} \\sum_{k=1}^{N_{\\rm data}} \\bigl[E_k - F(x_k)\\bigr]^2. $$\n",
    "4. we use the CMA-ES optimizer to find the best set of parameters of the scheduling which lead the energy of Z to pass through\n",
    "   the CDF values."
   ]
  },
  {
   "cell_type": "code",
   "execution_count": null,
   "metadata": {},
   "outputs": [],
   "source": [
    "best_params = train_adiabatic_evolution(\n",
    "    nsteps=nsteps,\n",
    "    xarr=xarr,\n",
    "    cdf=cdf,\n",
    "    training_n=20,\n",
    "    init_params=init_params,\n",
    "    e0=e0,\n",
    "    e1=e1,\n",
    "    target_loss=1e-3,\n",
    "    finalT=finalT,\n",
    "    h0=h0,\n",
    "    h1=h1,\n",
    "    obs_target=obs_target\n",
    ")"
   ]
  },
  {
   "cell_type": "markdown",
   "metadata": {},
   "source": [
    "## 7. From Adiabatic Evolution to a quantum circuit\n",
    "\n",
    "We define an unitary operator which can be used to get the evolved state at any \n",
    "evolution time $\\tau$ thanks to some calculations on the evolution operator\n",
    "associated to $H_{\\rm ad}$. This operator is translated into a circuit composed \n",
    "of some rotations in `rotational_circuit.py`.\n",
    "\n",
    "> If we are able to translate the problem to a VQC composed of rotations, we can\n",
    "> use the Parameter Shift Rule to derivate it very easily."
   ]
  },
  {
   "cell_type": "code",
   "execution_count": null,
   "metadata": {},
   "outputs": [],
   "source": [
    "rotcirc = rotational_circuit(best_p=best_params, finalT=finalT)"
   ]
  },
  {
   "cell_type": "code",
   "execution_count": null,
   "metadata": {},
   "outputs": [],
   "source": [
    "# a look to the circuit\n",
    "# this circuit must be filled with a time value to be well defined\n",
    "\n",
    "circ1 = rotcirc.rotations_circuit(t=0.1)\n",
    "circ2 = rotcirc.rotations_circuit(t=0.8)\n",
    "\n",
    "print(f\"Circuit diagram: {circ1.draw()}\")\n",
    "print(f\"\\nCirc1 params: {circ1.get_parameters()}\")\n",
    "print(f\"\\nCirc2 params: {circ2.get_parameters()}\")"
   ]
  },
  {
   "cell_type": "markdown",
   "metadata": {},
   "source": [
    "### Calculate derivative of the circuit with respect to $\\tau$"
   ]
  },
  {
   "cell_type": "code",
   "execution_count": null,
   "metadata": {},
   "outputs": [],
   "source": [
    "def psr_energy(t, nshots=None):\n",
    "    \"\"\"Calculate derivative of the energy with respect to the real time t.\"\"\"\n",
    "\n",
    "    c = rotcirc.rotations_circuit(t)\n",
    "    dd1, dd2, dd3 = rotcirc.derivative_rotation_angles(t)\n",
    "\n",
    "    d1 = dd1 * parameter_shift(circuit=c, parameter_index=0, hamiltonian=obs_target, nshots=nshots)\n",
    "    # looking inside the circuit you will see the second angle is filled with a \"-\" before\n",
    "    d2 = - dd2 * parameter_shift(circuit=c, parameter_index=1, hamiltonian=obs_target, nshots=nshots)\n",
    "    d3 = dd3 * parameter_shift(circuit=c, parameter_index=2, hamiltonian=obs_target, nshots=nshots)\n",
    "\n",
    "    return (d1 + d2 + d3)"
   ]
  },
  {
   "cell_type": "markdown",
   "metadata": {},
   "source": [
    "### Calculate derivatives time by time"
   ]
  },
  {
   "cell_type": "code",
   "execution_count": null,
   "metadata": {},
   "outputs": [],
   "source": [
    "nshots = 1000\n",
    "real_times = np.linspace(0, finalT, len(xarr))\n",
    "\n",
    "de = []\n",
    "e = []\n",
    "\n",
    "# loop over times\n",
    "for t in real_times:\n",
    "    c = rotcirc.rotations_circuit(t)\n",
    "    exp = obs_target.expectation(c.execute(nshots=nshots).state())\n",
    "    # to avoid numerical instabilities when close to zero\n",
    "    if exp > 0:\n",
    "        e.append(-exp)\n",
    "    else:\n",
    "        e.append(exp)\n",
    "    de.append(psr_energy(t))\n",
    "\n",
    "de = - np.asarray(de)*finalT"
   ]
  },
  {
   "cell_type": "code",
   "execution_count": null,
   "metadata": {},
   "outputs": [],
   "source": [
    "plot_final_results(times=xarr, sample=normed_sample, e=e, de=de, title=\"Final estimations\")"
   ]
  },
  {
   "cell_type": "markdown",
   "metadata": {},
   "source": [
    "#### References\n",
    "\n",
    "[1] [_Determining probability density functions with adiabatic quantum computing_, 2023](https://arxiv.org/abs/2303.11346)"
   ]
  }
 ],
 "metadata": {
  "kernelspec": {
   "display_name": "Python 3 (ipykernel)",
   "language": "python",
   "name": "python3"
  },
  "language_info": {
   "codemirror_mode": {
    "name": "ipython",
    "version": 3
   },
   "file_extension": ".py",
   "mimetype": "text/x-python",
   "name": "python",
   "nbconvert_exporter": "python",
   "pygments_lexer": "ipython3",
   "version": "3.8.10"
  }
 },
 "nbformat": 4,
 "nbformat_minor": 4
}
