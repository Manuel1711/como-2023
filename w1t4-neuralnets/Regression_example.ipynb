{
 "cells": [
  {
   "cell_type": "code",
   "execution_count": 2,
   "id": "56c00a8b",
   "metadata": {},
   "outputs": [],
   "source": [
    "import numpy as np\n",
    "import tensorflow as tf\n",
    "from tensorflow import keras\n",
    "from tensorflow.keras import layers, activations\n",
    "import matplotlib.pyplot as plt\n",
    "import pandas as pd"
   ]
  },
  {
   "cell_type": "markdown",
   "id": "8ac7990a",
   "metadata": {},
   "source": [
    "# Tasks"
   ]
  },
  {
   "cell_type": "markdown",
   "id": "d87c6fc2",
   "metadata": {},
   "source": [
    "The idea of this tutorial is to make you familiar with the construction of a simple neural network model to fit a function and, in particular, to the `tensorflow` library. The main tasks are the following:\n",
    "\n",
    "1. Choose a function to fit and generate fake data according to it simulating also experimental errors. \n",
    "2. Visualize the data.\n",
    "3. Construct a NN model to fit the function and train it to the data.\n",
    "4. Evaluate the predictions of your model.\n",
    "5. (Bonus task) Adopt a replica approach: generate different fake data replica and fit a different model to each replica. Then use the envelope of the predictions to get an uncertainty band. \n",
    "\n",
    "Some of the notebook's cells have been left with partial code to guide you but you are free to solve the problem in the way you prefer. "
   ]
  },
  {
   "cell_type": "markdown",
   "id": "a2212c86",
   "metadata": {},
   "source": [
    "## Let's select some of the parameters"
   ]
  },
  {
   "cell_type": "markdown",
   "id": "60c28227",
   "metadata": {},
   "source": [
    "Let's collect all the relevant parameters here. A couple of examples that you may need later have been already added.    "
   ]
  },
  {
   "cell_type": "code",
   "execution_count": 3,
   "id": "e502c9f8",
   "metadata": {},
   "outputs": [],
   "source": [
    "# Select some parameters\n",
    "xsize = 200 #number of data to be generated \n",
    "number_of_layers = 4 #number of layers in the NN\n",
    "#...."
   ]
  },
  {
   "cell_type": "markdown",
   "id": "083ef5c5",
   "metadata": {},
   "source": [
    "## Function of nature that we would like to discover"
   ]
  },
  {
   "cell_type": "markdown",
   "id": "47aad40d",
   "metadata": {},
   "source": [
    "Here you should put a function that you would like to fit. An example function is already provided with also the possibility of adding a gaussian smearing.  "
   ]
  },
  {
   "cell_type": "code",
   "execution_count": 4,
   "id": "0d9bae6f",
   "metadata": {},
   "outputs": [],
   "source": [
    "def func_to_fit(x, dev):\n",
    "    return np.random.normal(loc = (3*x**3 - x**2 + 5*x - 3), scale = dev)"
   ]
  },
  {
   "cell_type": "markdown",
   "id": "34d9f3b4",
   "metadata": {},
   "source": [
    "### Generation of fake data for both training and validation"
   ]
  },
  {
   "cell_type": "code",
   "execution_count": null,
   "id": "b034028d",
   "metadata": {},
   "outputs": [],
   "source": [
    "x_exp_data_tr = \n",
    "y_exp_data_tr = \n",
    "x_exp_data_val = \n",
    "y_exp_data_val = "
   ]
  },
  {
   "cell_type": "markdown",
   "id": "7a01cf57",
   "metadata": {},
   "source": [
    "### Visualizing the data"
   ]
  },
  {
   "cell_type": "code",
   "execution_count": null,
   "id": "d46d84b1",
   "metadata": {},
   "outputs": [],
   "source": []
  },
  {
   "cell_type": "markdown",
   "id": "d19d7e24",
   "metadata": {},
   "source": [
    "## Let's now build the model"
   ]
  },
  {
   "cell_type": "markdown",
   "id": "462735f8",
   "metadata": {},
   "source": [
    "It is time to build the model. Let's define a function for that. Use the `tensorflow` `Dense` layers and add them to the model with the function `model.add()`. "
   ]
  },
  {
   "cell_type": "code",
   "execution_count": 7,
   "id": "f2f77722",
   "metadata": {},
   "outputs": [],
   "source": [
    "def make_model(#choose the appropriate inputs...):\n",
    "    input_la = keras.Input(shape=(1,)) #input layer\n",
    "    model = keras.Sequential([input_la])\n",
    "    # Put your model here #\n",
    "    model.add(layers.Dense(1)) #output layer\n",
    "    return model"
   ]
  },
  {
   "cell_type": "markdown",
   "id": "911d4dd0",
   "metadata": {},
   "source": [
    "Now call the function `make_model` and define an appropriate *loss* and an appropriate *optimizer*. Finally compile your model. "
   ]
  },
  {
   "cell_type": "code",
   "execution_count": 8,
   "id": "ebabde9f",
   "metadata": {},
   "outputs": [],
   "source": [
    "model = make_model(#...#)\n",
    "model.compile(#....#)"
   ]
  },
  {
   "cell_type": "markdown",
   "id": "ed12e7b3",
   "metadata": {},
   "source": [
    "Look at the summary of your model now"
   ]
  },
  {
   "cell_type": "code",
   "execution_count": null,
   "id": "6779314f",
   "metadata": {},
   "outputs": [],
   "source": [
    "model.summary()"
   ]
  },
  {
   "cell_type": "markdown",
   "id": "54552e44",
   "metadata": {},
   "source": [
    "## Let's train the model"
   ]
  },
  {
   "cell_type": "markdown",
   "id": "7a50c800",
   "metadata": {},
   "source": [
    "It is finally time to train the model to the fake data. To do that we just need to call the function `model.fit()`. Look at the `tensorflow` documentation to understand which inputs it needs."
   ]
  },
  {
   "cell_type": "code",
   "execution_count": null,
   "id": "990eddfe",
   "metadata": {},
   "outputs": [],
   "source": [
    "histo = model.fit(#...#)"
   ]
  },
  {
   "cell_type": "markdown",
   "id": "c76f0dd0",
   "metadata": {},
   "source": [
    "### Let's look at the training/valdation losses"
   ]
  },
  {
   "cell_type": "markdown",
   "id": "e57b59db",
   "metadata": {},
   "source": [
    "We can have a look to the loss values as a function of the epoch. "
   ]
  },
  {
   "cell_type": "code",
   "execution_count": null,
   "id": "1c738df3",
   "metadata": {},
   "outputs": [],
   "source": [
    "hist = pd.DataFrame(histo.history)\n",
    "hist['epoch'] = histo.epoch\n",
    "hist.tail()"
   ]
  },
  {
   "cell_type": "code",
   "execution_count": 13,
   "id": "54edd4c2",
   "metadata": {},
   "outputs": [],
   "source": [
    "def plot_loss(history):\n",
    "    #....#"
   ]
  },
  {
   "cell_type": "code",
   "execution_count": null,
   "id": "bc7946fd",
   "metadata": {},
   "outputs": [],
   "source": [
    "plot_loss(histo)"
   ]
  },
  {
   "cell_type": "markdown",
   "id": "60d4188c",
   "metadata": {},
   "source": [
    "### Now let's look to predictions "
   ]
  },
  {
   "cell_type": "markdown",
   "id": "007af32d",
   "metadata": {},
   "source": [
    "Let's now try to reconstruct the original function asking the model to predict the function over a linear grid in x. To do that you need to use the function `model.predict()`. Then plot your predictions and the original function."
   ]
  },
  {
   "cell_type": "code",
   "execution_count": null,
   "id": "c5a7c28b",
   "metadata": {},
   "outputs": [],
   "source": [
    "x = tf.linspace(0.0, 1.0, 50) #simple grid in x\n",
    "#...predict here...#"
   ]
  },
  {
   "cell_type": "code",
   "execution_count": 17,
   "id": "7297c832",
   "metadata": {},
   "outputs": [],
   "source": [
    "#this function plots the training and validation data for a certain replica, together with our prediction and real function\n",
    "def plot_fit(#...#):\n",
    "    #...#"
   ]
  },
  {
   "cell_type": "code",
   "execution_count": null,
   "id": "851af09a",
   "metadata": {},
   "outputs": [],
   "source": [
    "plot_fit(#...#)"
   ]
  }
 ],
 "metadata": {
  "kernelspec": {
   "display_name": "Python 3 (ipykernel)",
   "language": "python",
   "name": "python3"
  },
  "language_info": {
   "codemirror_mode": {
    "name": "ipython",
    "version": 3
   },
   "file_extension": ".py",
   "mimetype": "text/x-python",
   "name": "python",
   "nbconvert_exporter": "python",
   "pygments_lexer": "ipython3",
   "version": "3.10.12"
  }
 },
 "nbformat": 4,
 "nbformat_minor": 5
}
