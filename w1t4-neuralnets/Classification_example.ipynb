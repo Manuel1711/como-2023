{
 "cells": [
  {
   "cell_type": "code",
   "execution_count": null,
   "id": "5724b831",
   "metadata": {},
   "outputs": [],
   "source": [
    "import numpy as np\n",
    "import tensorflow as tf\n",
    "from tensorflow import keras\n",
    "from tensorflow.keras import layers, activations\n",
    "import matplotlib.pyplot as plt\n",
    "import pandas as pd"
   ]
  },
  {
   "cell_type": "markdown",
   "id": "8ac7990a",
   "metadata": {},
   "source": [
    "# Tasks"
   ]
  },
  {
   "cell_type": "markdown",
   "id": "d87c6fc2",
   "metadata": {},
   "source": [
    "The idea of this tutorial is to make a simple neural network model to solve a (fake) classification problem. The main tasks are the following:\n",
    "\n",
    "1. Choose a classification function and generate fake data according to it simulating also possible errors.\n",
    "2. Consider to generate also a test dataset that the fit never sees to test your model at the end.\n",
    "3. Visualize the data.\n",
    "4. Construct a NN model and train it to the data.\n",
    "5. Evaluate the predictions of your model.\n",
    "\n",
    "Some of the notebook's cells have been left with partial code to guide you but you are free to solve the problem in the way you prefer. "
   ]
  },
  {
   "cell_type": "markdown",
   "id": "f9ada7b7",
   "metadata": {},
   "source": [
    "## Let's select some of the parameters"
   ]
  },
  {
   "cell_type": "markdown",
   "id": "06cdacc0",
   "metadata": {},
   "source": [
    "Here we are fixing some parameters that we will use later. "
   ]
  },
  {
   "cell_type": "code",
   "execution_count": null,
   "id": "c07ec50c",
   "metadata": {},
   "outputs": [],
   "source": [
    "# Select some parameters\n",
    "datasize = 300 #number of data to be generated\n",
    "tr_vl_splitting = 0.75 #training/validation splitting\n",
    "#....#"
   ]
  },
  {
   "cell_type": "markdown",
   "id": "d6e9559f",
   "metadata": {},
   "source": [
    "### This is the classification algorithm that we want to discover "
   ]
  },
  {
   "cell_type": "code",
   "execution_count": null,
   "id": "7e777ce9",
   "metadata": {},
   "outputs": [],
   "source": [
    "def what_process(#Put here the inputs that you like#):\n",
    "    #some classification according to the inputs    "
   ]
  },
  {
   "cell_type": "code",
   "execution_count": null,
   "id": "8b877c98",
   "metadata": {},
   "outputs": [],
   "source": [
    "#Generata your data here, you are free to do what you believe is better. "
   ]
  },
  {
   "cell_type": "markdown",
   "id": "f9083f79",
   "metadata": {},
   "source": [
    "Let's visualize the data."
   ]
  },
  {
   "cell_type": "code",
   "execution_count": null,
   "id": "876e6c6b",
   "metadata": {},
   "outputs": [],
   "source": [
    "#....#"
   ]
  },
  {
   "cell_type": "markdown",
   "id": "f442d0d7",
   "metadata": {},
   "source": [
    "## Let's now build the model "
   ]
  },
  {
   "cell_type": "code",
   "execution_count": null,
   "id": "8c860694",
   "metadata": {},
   "outputs": [],
   "source": [
    "model = keras.Sequential(#....#)\n",
    "loss_scc = #loss function\n",
    "opt_adam = #optimizer\n",
    "model.compile(#...#)\n",
    "print(model.summary())"
   ]
  },
  {
   "cell_type": "markdown",
   "id": "7368450a",
   "metadata": {},
   "source": [
    "### Model training"
   ]
  },
  {
   "cell_type": "code",
   "execution_count": null,
   "id": "3244284c",
   "metadata": {},
   "outputs": [],
   "source": [
    "history = model.fit(#....#)\n"
   ]
  },
  {
   "cell_type": "markdown",
   "id": "9511efd9",
   "metadata": {},
   "source": [
    "### Let's have a look to the loss"
   ]
  },
  {
   "cell_type": "code",
   "execution_count": null,
   "id": "d29b6bc0",
   "metadata": {},
   "outputs": [],
   "source": [
    "hist = pd.DataFrame(history.history)\n",
    "hist['epoch'] = history.epoch\n",
    "hist.tail()"
   ]
  },
  {
   "cell_type": "code",
   "execution_count": null,
   "id": "badb5af0",
   "metadata": {},
   "outputs": [],
   "source": [
    "def plot_loss(history):\n",
    "    #....#"
   ]
  },
  {
   "cell_type": "code",
   "execution_count": null,
   "id": "c2187963",
   "metadata": {},
   "outputs": [],
   "source": [
    "plot_loss(history)"
   ]
  }
 ],
 "metadata": {
  "kernelspec": {
   "display_name": "Python 3 (ipykernel)",
   "language": "python",
   "name": "python3"
  },
  "language_info": {
   "codemirror_mode": {
    "name": "ipython",
    "version": 3
   },
   "file_extension": ".py",
   "mimetype": "text/x-python",
   "name": "python",
   "nbconvert_exporter": "python",
   "pygments_lexer": "ipython3",
   "version": "3.10.12"
  }
 },
 "nbformat": 4,
 "nbformat_minor": 5
}
